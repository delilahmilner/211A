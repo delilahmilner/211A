{
 "cells": [
  {
   "cell_type": "code",
   "execution_count": 1,
   "metadata": {},
   "outputs": [],
   "source": [
    "import numpy as np\n",
    "from datascience import *\n",
    "import matplotlib.pyplot as plt\n",
    "%matplotlib inline\n",
    "plt.style.use('fast')\n",
    "import math\n",
    "import random"
   ]
  },
  {
   "cell_type": "code",
   "execution_count": 2,
   "metadata": {},
   "outputs": [
    {
     "data": {
      "text/plain": [
       "50.1"
      ]
     },
     "execution_count": 2,
     "metadata": {},
     "output_type": "execute_result"
    }
   ],
   "source": [
    "# hbar 1.055e-34 Js\n",
    "# w 1000 1/cm\n",
    "# 1Kcal = 4.184 KJ\n",
    "Kb = 1.38e-23\n",
    "h = 1.055e-34\n",
    "w = 1000\n",
    "hw = 50.1\n",
    "hw"
   ]
  },
  {
   "cell_type": "code",
   "execution_count": 3,
   "metadata": {},
   "outputs": [],
   "source": [
    "# N = number of oscilators \n",
    "# 1e\n",
    "def ClassicEntropy(N,E):\n",
    "    left = 3*N*Kb\n",
    "    right = np.log((2*np.pi*np.e*E)/(3*N*hw))\n",
    "    return left*right  "
   ]
  },
  {
   "cell_type": "code",
   "execution_count": 4,
   "metadata": {},
   "outputs": [],
   "source": [
    "xofclassic = np.linspace(1,5000,5001)\n",
    "Classic100 = ClassicEntropy(100,xofclassic)"
   ]
  },
  {
   "cell_type": "code",
   "execution_count": 5,
   "metadata": {},
   "outputs": [
    {
     "data": {
      "image/png": "[encoded data removed]",
      "text/plain": [
       "<Figure size 432x288 with 1 Axes>"
      ]
     },
     "metadata": {
      "needs_background": "light"
     },
     "output_type": "display_data"
    }
   ],
   "source": [
    "Tableofxclassic = Table().with_columns(\"Energy\",xofclassic,\"Classic Entropy\", Classic100)\n",
    "Tableofxclassic.plot(0)"
   ]
  },
  {
   "cell_type": "code",
   "execution_count": 6,
   "metadata": {},
   "outputs": [],
   "source": [
    "# N = number of oscilators \n",
    "def QuantumEntropy(N,E):\n",
    "    left = (E/hw)*np.log(1+(N*hw/E))\n",
    "    right = N*np.log(1+E/(N*hw))\n",
    "    return Kb*3*(left+right) "
   ]
  },
  {
   "cell_type": "code",
   "execution_count": 7,
   "metadata": {},
   "outputs": [],
   "source": [
    "Energy1to5k = np.linspace(1,5000,5001)\n",
    "entropy3D = QuantumEntropy(100,Energy1to5k)"
   ]
  },
  {
   "cell_type": "code",
   "execution_count": 8,
   "metadata": {},
   "outputs": [
    {
     "data": {
      "text/html": [
       "<table border=\"1\" class=\"dataframe\">\n",
       "    <thead>\n",
       "        <tr>\n",
       "            <th>Energy</th> <th>Entropy of quantum</th> <th>Entropy Classic</th>\n",
       "        </tr>\n",
       "    </thead>\n",
       "    <tbody>\n",
       "        <tr>\n",
       "            <td>1     </td> <td>7.86624e-24       </td> <td>-2.80689e-20   </td>\n",
       "        </tr>\n",
       "        <tr>\n",
       "            <td>1.9998</td> <td>1.45858e-23       </td> <td>-2.51997e-20   </td>\n",
       "        </tr>\n",
       "        <tr>\n",
       "            <td>2.9996</td> <td>2.08733e-23       </td> <td>-2.35212e-20   </td>\n",
       "        </tr>\n",
       "        <tr>\n",
       "            <td>3.9994</td> <td>2.68802e-23       </td> <td>-2.23303e-20   </td>\n",
       "        </tr>\n",
       "        <tr>\n",
       "            <td>4.9992</td> <td>3.26785e-23       </td> <td>-2.14065e-20   </td>\n",
       "        </tr>\n",
       "        <tr>\n",
       "            <td>5.999 </td> <td>3.83107e-23       </td> <td>-2.06517e-20   </td>\n",
       "        </tr>\n",
       "        <tr>\n",
       "            <td>6.9988</td> <td>4.38046e-23       </td> <td>-2.00135e-20   </td>\n",
       "        </tr>\n",
       "        <tr>\n",
       "            <td>7.9986</td> <td>4.91804e-23       </td> <td>-1.94607e-20   </td>\n",
       "        </tr>\n",
       "        <tr>\n",
       "            <td>8.9984</td> <td>5.44527e-23       </td> <td>-1.89731e-20   </td>\n",
       "        </tr>\n",
       "        <tr>\n",
       "            <td>9.9982</td> <td>5.96332e-23       </td> <td>-1.85369e-20   </td>\n",
       "        </tr>\n",
       "    </tbody>\n",
       "</table>\n",
       "<p>... (4991 rows omitted)</p>"
      ],
      "text/plain": [
       "Energy | Entropy of quantum | Entropy Classic\n",
       "1      | 7.86624e-24        | -2.80689e-20\n",
       "1.9998 | 1.45858e-23        | -2.51997e-20\n",
       "2.9996 | 2.08733e-23        | -2.35212e-20\n",
       "3.9994 | 2.68802e-23        | -2.23303e-20\n",
       "4.9992 | 3.26785e-23        | -2.14065e-20\n",
       "5.999  | 3.83107e-23        | -2.06517e-20\n",
       "6.9988 | 4.38046e-23        | -2.00135e-20\n",
       "7.9986 | 4.91804e-23        | -1.94607e-20\n",
       "8.9984 | 5.44527e-23        | -1.89731e-20\n",
       "9.9982 | 5.96332e-23        | -1.85369e-20\n",
       "... (4991 rows omitted)"
      ]
     },
     "execution_count": 8,
     "metadata": {},
     "output_type": "execute_result"
    }
   ],
   "source": [
    "Tableboth = Table().with_columns(\"Energy\",Energy1to5k, \"Entropy of quantum\",entropy3D, \"Entropy Classic\",Classic100)\n",
    "Tableboth"
   ]
  },
  {
   "cell_type": "code",
   "execution_count": 9,
   "metadata": {},
   "outputs": [
    {
     "data": {
      "text/html": [
       "<table border=\"1\" class=\"dataframe\">\n",
       "    <thead>\n",
       "        <tr>\n",
       "            <th>Energy</th> <th>Entropy of quantum</th> <th>Entropy Classic</th>\n",
       "        </tr>\n",
       "    </thead>\n",
       "    <tbody>\n",
       "        <tr>\n",
       "            <td>5000  </td> <td>5.73353e-21       </td> <td>7.19228e-21    </td>\n",
       "        </tr>\n",
       "        <tr>\n",
       "            <td>4999  </td> <td>5.73295e-21       </td> <td>7.19146e-21    </td>\n",
       "        </tr>\n",
       "        <tr>\n",
       "            <td>4998  </td> <td>5.73238e-21       </td> <td>7.19063e-21    </td>\n",
       "        </tr>\n",
       "        <tr>\n",
       "            <td>4997  </td> <td>5.73181e-21       </td> <td>7.1898e-21     </td>\n",
       "        </tr>\n",
       "        <tr>\n",
       "            <td>4996  </td> <td>5.73123e-21       </td> <td>7.18897e-21    </td>\n",
       "        </tr>\n",
       "        <tr>\n",
       "            <td>4995  </td> <td>5.73066e-21       </td> <td>7.18814e-21    </td>\n",
       "        </tr>\n",
       "        <tr>\n",
       "            <td>4994  </td> <td>5.73008e-21       </td> <td>7.18731e-21    </td>\n",
       "        </tr>\n",
       "        <tr>\n",
       "            <td>4993  </td> <td>5.72951e-21       </td> <td>7.18649e-21    </td>\n",
       "        </tr>\n",
       "        <tr>\n",
       "            <td>4992  </td> <td>5.72894e-21       </td> <td>7.18566e-21    </td>\n",
       "        </tr>\n",
       "        <tr>\n",
       "            <td>4991  </td> <td>5.72836e-21       </td> <td>7.18483e-21    </td>\n",
       "        </tr>\n",
       "    </tbody>\n",
       "</table>\n",
       "<p>... (4991 rows omitted)</p>"
      ],
      "text/plain": [
       "Energy | Entropy of quantum | Entropy Classic\n",
       "5000   | 5.73353e-21        | 7.19228e-21\n",
       "4999   | 5.73295e-21        | 7.19146e-21\n",
       "4998   | 5.73238e-21        | 7.19063e-21\n",
       "4997   | 5.73181e-21        | 7.1898e-21\n",
       "4996   | 5.73123e-21        | 7.18897e-21\n",
       "4995   | 5.73066e-21        | 7.18814e-21\n",
       "4994   | 5.73008e-21        | 7.18731e-21\n",
       "4993   | 5.72951e-21        | 7.18649e-21\n",
       "4992   | 5.72894e-21        | 7.18566e-21\n",
       "4991   | 5.72836e-21        | 7.18483e-21\n",
       "... (4991 rows omitted)"
      ]
     },
     "execution_count": 9,
     "metadata": {},
     "output_type": "execute_result"
    }
   ],
   "source": [
    "bottompoint = Tableboth.sort(\"Energy\",descending=True)\n",
    "bottompoint"
   ]
  },
  {
   "cell_type": "code",
   "execution_count": 10,
   "metadata": {},
   "outputs": [
    {
     "data": {
      "image/png": "[encoded data removed]",
      "text/plain": [
       "<Figure size 432x288 with 1 Axes>"
      ]
     },
     "metadata": {
      "needs_background": "light"
     },
     "output_type": "display_data"
    }
   ],
   "source": [
    "#1f\n",
    "Tableboth.plot(\"Energy\")"
   ]
  },
  {
   "cell_type": "code",
   "execution_count": 11,
   "metadata": {},
   "outputs": [],
   "source": [
    "newquantum = entropy3D-5.73353e-21\n",
    "newclassic = Classic100-7.19228e-21"
   ]
  },
  {
   "cell_type": "code",
   "execution_count": 12,
   "metadata": {},
   "outputs": [
    {
     "data": {
      "text/html": [
       "<table border=\"1\" class=\"dataframe\">\n",
       "    <thead>\n",
       "        <tr>\n",
       "            <th>Energy</th> <th>newquantum</th> <th>classic</th>\n",
       "        </tr>\n",
       "    </thead>\n",
       "    <tbody>\n",
       "        <tr>\n",
       "            <td>1     </td> <td>-5.72566e-21</td> <td>-3.52612e-20</td>\n",
       "        </tr>\n",
       "        <tr>\n",
       "            <td>1.9998</td> <td>-5.71894e-21</td> <td>-3.2392e-20 </td>\n",
       "        </tr>\n",
       "        <tr>\n",
       "            <td>2.9996</td> <td>-5.71266e-21</td> <td>-3.07135e-20</td>\n",
       "        </tr>\n",
       "        <tr>\n",
       "            <td>3.9994</td> <td>-5.70665e-21</td> <td>-2.95225e-20</td>\n",
       "        </tr>\n",
       "        <tr>\n",
       "            <td>4.9992</td> <td>-5.70085e-21</td> <td>-2.85988e-20</td>\n",
       "        </tr>\n",
       "        <tr>\n",
       "            <td>5.999 </td> <td>-5.69522e-21</td> <td>-2.7844e-20 </td>\n",
       "        </tr>\n",
       "        <tr>\n",
       "            <td>6.9988</td> <td>-5.68973e-21</td> <td>-2.72058e-20</td>\n",
       "        </tr>\n",
       "        <tr>\n",
       "            <td>7.9986</td> <td>-5.68435e-21</td> <td>-2.6653e-20 </td>\n",
       "        </tr>\n",
       "        <tr>\n",
       "            <td>8.9984</td> <td>-5.67908e-21</td> <td>-2.61654e-20</td>\n",
       "        </tr>\n",
       "        <tr>\n",
       "            <td>9.9982</td> <td>-5.6739e-21 </td> <td>-2.57292e-20</td>\n",
       "        </tr>\n",
       "    </tbody>\n",
       "</table>\n",
       "<p>... (4991 rows omitted)</p>"
      ],
      "text/plain": [
       "Energy | newquantum   | classic\n",
       "1      | -5.72566e-21 | -3.52612e-20\n",
       "1.9998 | -5.71894e-21 | -3.2392e-20\n",
       "2.9996 | -5.71266e-21 | -3.07135e-20\n",
       "3.9994 | -5.70665e-21 | -2.95225e-20\n",
       "4.9992 | -5.70085e-21 | -2.85988e-20\n",
       "5.999  | -5.69522e-21 | -2.7844e-20\n",
       "6.9988 | -5.68973e-21 | -2.72058e-20\n",
       "7.9986 | -5.68435e-21 | -2.6653e-20\n",
       "8.9984 | -5.67908e-21 | -2.61654e-20\n",
       "9.9982 | -5.6739e-21  | -2.57292e-20\n",
       "... (4991 rows omitted)"
      ]
     },
     "execution_count": 12,
     "metadata": {},
     "output_type": "execute_result"
    }
   ],
   "source": [
    "Energy1to47 = np.linspace(1,5000,5001)\n",
    "newtabl = Table().with_columns(\"Energy\",Energy1to47, \"newquantum\", newquantum, \"classic\",newclassic)\n",
    "newtabl"
   ]
  },
  {
   "cell_type": "code",
   "execution_count": 13,
   "metadata": {},
   "outputs": [
    {
     "data": {
      "image/png": "[encoded data removed]",
      "text/plain": [
       "<Figure size 432x288 with 1 Axes>"
      ]
     },
     "metadata": {
      "needs_background": "light"
     },
     "output_type": "display_data"
    }
   ],
   "source": [
    "#1f\n",
    "newtabl.plot(0)"
   ]
  },
  {
   "cell_type": "code",
   "execution_count": 14,
   "metadata": {},
   "outputs": [],
   "source": [
    "inverses2 = ClassicEntropy(100,Energy1to47)\n",
    "res = inverses2[::-1]"
   ]
  },
  {
   "cell_type": "code",
   "execution_count": 15,
   "metadata": {},
   "outputs": [
    {
     "data": {
      "image/png": "[encoded data removed]",
      "text/plain": [
       "<Figure size 432x288 with 1 Axes>"
      ]
     },
     "metadata": {
      "needs_background": "light"
     },
     "output_type": "display_data"
    }
   ],
   "source": [
    "#1g\n",
    "inverseenergy = Table().with_columns(\"Energy\",Energy1to5k, \"Entropy of quantum\",entropy3D, \"Entropy Classic\",res)\n",
    "inverseenergy.plot(0)"
   ]
  },
  {
   "cell_type": "code",
   "execution_count": 16,
   "metadata": {},
   "outputs": [
    {
     "data": {
      "image/png": "[encoded data removed]",
      "text/plain": [
       "<Figure size 432x288 with 1 Axes>"
      ]
     },
     "metadata": {
      "needs_background": "light"
     },
     "output_type": "display_data"
    }
   ],
   "source": [
    "zoom = inverseenergy.where(\"Energy\", are.between(2640,2650))\n",
    "zoom.plot(0)"
   ]
  },
  {
   "cell_type": "code",
   "execution_count": 17,
   "metadata": {},
   "outputs": [],
   "source": [
    "#these system cross at 2645 Kcal"
   ]
  },
  {
   "cell_type": "code",
   "execution_count": null,
   "metadata": {},
   "outputs": [],
   "source": []
  },
  {
   "cell_type": "code",
   "execution_count": 18,
   "metadata": {},
   "outputs": [],
   "source": [
    "#3\n",
    "circle = []\n",
    "iterations = np.linspace(100,1000000,10000)\n",
    "countcircle = 0\n",
    "for j in iterations:\n",
    "    xm = random.uniform(-1,1)\n",
    "    ym = random.uniform(-1,1)\n",
    "    if np.sqrt((xm**2)+(ym**2)) <= 1:\n",
    "        countcircle += 1\n",
    "    pi = 4*countcircle\n",
    "    circle.append(pi)"
   ]
  },
  {
   "cell_type": "code",
   "execution_count": 19,
   "metadata": {},
   "outputs": [
    {
     "data": {
      "text/plain": [
       "array([0.        , 0.02      , 0.02666667, ..., 0.03129026, 0.03129113,\n",
       "       0.031292  ])"
      ]
     },
     "execution_count": 19,
     "metadata": {},
     "output_type": "execute_result"
    }
   ],
   "source": [
    "guess = circle/iterations\n",
    "guess"
   ]
  },
  {
   "cell_type": "code",
   "execution_count": 20,
   "metadata": {},
   "outputs": [
    {
     "data": {
      "image/png": "[encoded data removed]",
      "text/plain": [
       "<Figure size 432x288 with 1 Axes>"
      ]
     },
     "metadata": {
      "needs_background": "light"
     },
     "output_type": "display_data"
    }
   ],
   "source": [
    "solving_pi = Table().with_columns(\"iteration\",iterations,\"Pi\",guess).where(\"iteration\",are.above(100000))\n",
    "solving_pi.plot(0)"
   ]
  },
  {
   "cell_type": "code",
   "execution_count": null,
   "metadata": {},
   "outputs": [],
   "source": []
  },
  {
   "cell_type": "code",
   "execution_count": null,
   "metadata": {},
   "outputs": [],
   "source": []
  },
  {
   "cell_type": "code",
   "execution_count": null,
   "metadata": {},
   "outputs": [],
   "source": []
  },
  {
   "cell_type": "code",
   "execution_count": null,
   "metadata": {},
   "outputs": [],
   "source": []
  },
  {
   "cell_type": "code",
   "execution_count": 21,
   "metadata": {},
   "outputs": [],
   "source": [
    "Radius1 = make_array(0,0,6)\n",
    "Radius2 = make_array(0,0,0)"
   ]
  },
  {
   "cell_type": "code",
   "execution_count": null,
   "metadata": {},
   "outputs": [],
   "source": []
  },
  {
   "cell_type": "code",
   "execution_count": null,
   "metadata": {},
   "outputs": [],
   "source": []
  },
  {
   "cell_type": "code",
   "execution_count": 22,
   "metadata": {},
   "outputs": [],
   "source": [
    "#5b\n",
    "def Force(r2,r1):\n",
    "    output_coordinates = np.zeros([1, 3])\n",
    "    difference = (r1[0]-r2[0])**2 + (r1[1]-r2[1])**2 + (r1[2]-r2[2])**2\n",
    "    radius = math.sqrt(difference)\n",
    "    potential = (-4.1*1.77)*(((12*(4.1**12))*((1/radius)**13)) - ((6*(4.1**6))*((1/radius)**7)))\n",
    "    for i in range(3):\n",
    "        force12 = potential*((r1[i]-r2[i])/difference)\n",
    "        output_coordinates[0][i] = force12\n",
    "    return output_coordinates"
   ]
  },
  {
   "cell_type": "code",
   "execution_count": 23,
   "metadata": {},
   "outputs": [
    {
     "data": {
      "text/plain": [
       "array([[ 0.        ,  0.        , -0.09806647]])"
      ]
     },
     "execution_count": 23,
     "metadata": {},
     "output_type": "execute_result"
    }
   ],
   "source": [
    "testing = Force(Radius1,Radius2)\n",
    "testing"
   ]
  },
  {
   "cell_type": "code",
   "execution_count": 24,
   "metadata": {},
   "outputs": [],
   "source": [
    "# 2x2x2\n",
    "counter = 0\n",
    "v = np.zeros([8,3])\n",
    "\n",
    "for i in range(2):\n",
    "    for j in range(2):\n",
    "        for k in range(2):\n",
    "            v[counter] = make_array(i,j,k)\n",
    "            counter += 1"
   ]
  },
  {
   "cell_type": "code",
   "execution_count": 25,
   "metadata": {
    "scrolled": true
   },
   "outputs": [
    {
     "data": {
      "text/plain": [
       "array([[0. , 0. , 0. ],\n",
       "       [0. , 0. , 4.6],\n",
       "       [0. , 4.6, 0. ],\n",
       "       [0. , 4.6, 4.6],\n",
       "       [4.6, 0. , 0. ],\n",
       "       [4.6, 0. , 4.6],\n",
       "       [4.6, 4.6, 0. ],\n",
       "       [4.6, 4.6, 4.6]])"
      ]
     },
     "execution_count": 25,
     "metadata": {},
     "output_type": "execute_result"
    }
   ],
   "source": [
    "my_array = 4.6*v\n",
    "my_array"
   ]
  },
  {
   "cell_type": "code",
   "execution_count": 26,
   "metadata": {},
   "outputs": [],
   "source": [
    "array_for_each_point = []\n",
    "for i in range(len(my_array)):\n",
    "    array_for_each_point.append([])"
   ]
  },
  {
   "cell_type": "code",
   "execution_count": 27,
   "metadata": {},
   "outputs": [],
   "source": [
    "for i in range(len(my_array)):\n",
    "    for j in range(len(my_array)):\n",
    "        if i != j:\n",
    "            yfor2 = Force(my_array[i], my_array[j])\n",
    "            array_for_each_point[i].append(yfor2)"
   ]
  },
  {
   "cell_type": "code",
   "execution_count": 28,
   "metadata": {},
   "outputs": [
    {
     "data": {
      "text/plain": [
       "[array([[0.08401841, 0.08401841, 0.08401841]]),\n",
       " array([[ 0.08401841,  0.08401841, -0.08401841]]),\n",
       " array([[ 0.08401841, -0.08401841,  0.08401841]]),\n",
       " array([[ 0.08401841, -0.08401841, -0.08401841]]),\n",
       " array([[-0.08401841,  0.08401841,  0.08401841]]),\n",
       " array([[-0.08401841,  0.08401841, -0.08401841]]),\n",
       " array([[-0.08401841, -0.08401841,  0.08401841]]),\n",
       " array([[-0.08401841, -0.08401841, -0.08401841]])]"
      ]
     },
     "execution_count": 28,
     "metadata": {},
     "output_type": "execute_result"
    }
   ],
   "source": [
    "#5c\n",
    "force_pair = []\n",
    "for i in range(len(my_array)):\n",
    "    force_pair.append(np.zeros([1,3]))\n",
    "    for j in range(len(array_for_each_point[i])):\n",
    "        force_pair[i] = np.add(force_pair[i], array_for_each_point[i][j])\n",
    "force_pair"
   ]
  },
  {
   "cell_type": "code",
   "execution_count": null,
   "metadata": {},
   "outputs": [],
   "source": []
  },
  {
   "cell_type": "code",
   "execution_count": 29,
   "metadata": {},
   "outputs": [],
   "source": [
    "#3x3x3\n",
    "counter = 0\n",
    "b = np.zeros([27,3])\n",
    "\n",
    "for i in range(3):\n",
    "    for j in range(3):\n",
    "        for k in range(3):\n",
    "            b[counter] = make_array(i,j,k)\n",
    "            counter += 1"
   ]
  },
  {
   "cell_type": "code",
   "execution_count": 30,
   "metadata": {},
   "outputs": [
    {
     "data": {
      "text/plain": [
       "array([[0. , 0. , 0. ],\n",
       "       [0. , 0. , 4.6],\n",
       "       [0. , 0. , 9.2],\n",
       "       [0. , 4.6, 0. ],\n",
       "       [0. , 4.6, 4.6],\n",
       "       [0. , 4.6, 9.2],\n",
       "       [0. , 9.2, 0. ],\n",
       "       [0. , 9.2, 4.6],\n",
       "       [0. , 9.2, 9.2],\n",
       "       [4.6, 0. , 0. ],\n",
       "       [4.6, 0. , 4.6],\n",
       "       [4.6, 0. , 9.2],\n",
       "       [4.6, 4.6, 0. ],\n",
       "       [4.6, 4.6, 4.6],\n",
       "       [4.6, 4.6, 9.2],\n",
       "       [4.6, 9.2, 0. ],\n",
       "       [4.6, 9.2, 4.6],\n",
       "       [4.6, 9.2, 9.2],\n",
       "       [9.2, 0. , 0. ],\n",
       "       [9.2, 0. , 4.6],\n",
       "       [9.2, 0. , 9.2],\n",
       "       [9.2, 4.6, 0. ],\n",
       "       [9.2, 4.6, 4.6],\n",
       "       [9.2, 4.6, 9.2],\n",
       "       [9.2, 9.2, 0. ],\n",
       "       [9.2, 9.2, 4.6],\n",
       "       [9.2, 9.2, 9.2]])"
      ]
     },
     "execution_count": 30,
     "metadata": {},
     "output_type": "execute_result"
    }
   ],
   "source": [
    "x3x3 = b*4.6\n",
    "x3x3"
   ]
  },
  {
   "cell_type": "code",
   "execution_count": 31,
   "metadata": {},
   "outputs": [],
   "source": [
    "def Ulj(r2,r1):\n",
    "    difference = (r1[0]-r2[0])**2 + (r1[1]-r2[1])**2 + (r1[2]-r2[2])**2\n",
    "    radius = math.sqrt(difference)\n",
    "    potential = (4*1.77)*((4.10/radius)**12 - (4.10/radius)**6)\n",
    "    return potential"
   ]
  },
  {
   "cell_type": "code",
   "execution_count": 32,
   "metadata": {},
   "outputs": [],
   "source": [
    "#5d\n",
    "def steepest_descent(step_size):\n",
    "    cube_points = x3x3\n",
    "    for j in range(1, len(cube_points)):\n",
    "        normal_force = cube_points[j]\n",
    "        length = np.sqrt((normal_force[0])**2 + (normal_force[1])**2 + (normal_force[2])**2)\n",
    "        step_pair = normal_force / length\n",
    "        displacement = step_pair * step_size\n",
    "        cube_points[j] += displacement\n",
    "    return cube_points"
   ]
  },
  {
   "cell_type": "code",
   "execution_count": 33,
   "metadata": {},
   "outputs": [
    {
     "data": {
      "text/plain": [
       "array([[0.        , 0.        , 0.        ],\n",
       "       [0.        , 0.        , 4.7       ],\n",
       "       [0.        , 0.        , 9.3       ],\n",
       "       [0.        , 4.7       , 0.        ],\n",
       "       [0.        , 4.67071068, 4.67071068],\n",
       "       [0.        , 4.64472136, 9.28944272],\n",
       "       [0.        , 9.3       , 0.        ],\n",
       "       [0.        , 9.28944272, 4.64472136],\n",
       "       [0.        , 9.27071068, 9.27071068],\n",
       "       [4.7       , 0.        , 0.        ],\n",
       "       [4.67071068, 0.        , 4.67071068],\n",
       "       [4.64472136, 0.        , 9.28944272],\n",
       "       [4.67071068, 4.67071068, 0.        ],\n",
       "       [4.65773503, 4.65773503, 4.65773503],\n",
       "       [4.64082483, 4.64082483, 9.28164966],\n",
       "       [4.64472136, 9.28944272, 0.        ],\n",
       "       [4.64082483, 9.28164966, 4.64082483],\n",
       "       [4.63333333, 9.26666667, 9.26666667],\n",
       "       [9.3       , 0.        , 0.        ],\n",
       "       [9.28944272, 0.        , 4.64472136],\n",
       "       [9.27071068, 0.        , 9.27071068],\n",
       "       [9.28944272, 4.64472136, 0.        ],\n",
       "       [9.28164966, 4.64082483, 4.64082483],\n",
       "       [9.26666667, 4.63333333, 9.26666667],\n",
       "       [9.27071068, 9.27071068, 0.        ],\n",
       "       [9.26666667, 9.26666667, 4.63333333],\n",
       "       [9.25773503, 9.25773503, 9.25773503]])"
      ]
     },
     "execution_count": 33,
     "metadata": {},
     "output_type": "execute_result"
    }
   ],
   "source": [
    "onestep = steepest_descent(0.1)\n",
    "onestep"
   ]
  },
  {
   "cell_type": "code",
   "execution_count": 34,
   "metadata": {},
   "outputs": [],
   "source": [
    "def energystep(point):\n",
    "    testenergy = []\n",
    "    for i in range(len(onestep)):\n",
    "        for j in range(len(onestep)):\n",
    "            if i != j:\n",
    "                Efor3 = Ulj(onestep[i],onestep[j])\n",
    "                testenergy.append(Efor3)\n",
    "    return np.sum(testenergy)"
   ]
  },
  {
   "cell_type": "code",
   "execution_count": 35,
   "metadata": {},
   "outputs": [
    {
     "data": {
      "text/plain": [
       "-264.2966381274415"
      ]
     },
     "execution_count": 35,
     "metadata": {},
     "output_type": "execute_result"
    }
   ],
   "source": [
    "ghy = energystep(onestep)\n",
    "ghy"
   ]
  },
  {
   "cell_type": "code",
   "execution_count": 36,
   "metadata": {},
   "outputs": [],
   "source": [
    "Points_3000 = []\n",
    "for i in range(3000):\n",
    "    Points_3000 = steepest_descent(0.1)"
   ]
  },
  {
   "cell_type": "code",
   "execution_count": 44,
   "metadata": {},
   "outputs": [
    {
     "data": {
      "text/plain": [
       "array([[  0.        ,   0.        ,   0.        ],\n",
       "       [  0.        ,   0.        , 304.7       ],\n",
       "       [  0.        ,   0.        , 309.3       ],\n",
       "       [  0.        , 304.7       ,   0.        ],\n",
       "       [  0.        , 216.80274503, 216.80274503],\n",
       "       [  0.        , 138.80880001, 277.61760002],\n",
       "       [  0.        , 309.3       ,   0.        ],\n",
       "       [  0.        , 277.61760002, 138.80880001],\n",
       "       [  0.        , 221.40274503, 221.40274503],\n",
       "       [304.7       ,   0.        ,   0.        ],\n",
       "       [216.80274503,   0.        , 216.80274503],\n",
       "       [138.80880001,   0.        , 277.61760002],\n",
       "       [216.80274503, 216.80274503,   0.        ],\n",
       "       [177.86281578, 177.86281578, 177.86281578],\n",
       "       [127.11531197, 127.11531197, 254.23062394],\n",
       "       [138.80880001, 277.61760002,   0.        ],\n",
       "       [127.11531197, 254.23062394, 127.11531197],\n",
       "       [104.63333333, 209.26666667, 209.26666667],\n",
       "       [309.3       ,   0.        ,   0.        ],\n",
       "       [277.61760002,   0.        , 138.80880001],\n",
       "       [221.40274503,   0.        , 221.40274503],\n",
       "       [277.61760002, 138.80880001,   0.        ],\n",
       "       [254.23062394, 127.11531197, 127.11531197],\n",
       "       [209.26666667, 104.63333333, 209.26666667],\n",
       "       [221.40274503, 221.40274503,   0.        ],\n",
       "       [209.26666667, 209.26666667, 104.63333333],\n",
       "       [182.46281578, 182.46281578, 182.46281578]])"
      ]
     },
     "execution_count": 44,
     "metadata": {},
     "output_type": "execute_result"
    }
   ],
   "source": [
    "Points_3000"
   ]
  },
  {
   "cell_type": "code",
   "execution_count": 52,
   "metadata": {},
   "outputs": [],
   "source": [
    "def the_steepest_descent(step_size, cube):\n",
    "    new_cube = cube\n",
    "    for j in range(1, len(cube)):\n",
    "        normal_force = cube[j]\n",
    "        length = np.sqrt((normal_force[0])**2 + (normal_force[1])**2 + (normal_force[2])**2)\n",
    "        step_pair = normal_force / length\n",
    "        displacement = step_pair * step_size\n",
    "        new_cube[j] += displacement\n",
    "    return new_cube"
   ]
  },
  {
   "cell_type": "code",
   "execution_count": 53,
   "metadata": {},
   "outputs": [],
   "source": [
    "def the_energystep(cube):\n",
    "    testenergy = []\n",
    "    for i in range(len(cube)):\n",
    "        for j in range(len(cube)):\n",
    "            if i != j:\n",
    "                Efor3 = Ulj(cube[i],cube[j])\n",
    "                testenergy.append(Efor3)\n",
    "    return np.sum(testenergy)"
   ]
  },
  {
   "cell_type": "code",
   "execution_count": 54,
   "metadata": {},
   "outputs": [],
   "source": [
    "def loop(step_size):\n",
    "    energy_array = np.zeros(3000)\n",
    "    the_cube = x3x3\n",
    "    for i in range(3000):\n",
    "        the_cube = the_steepest_descent(0.1, the_cube)\n",
    "        energy_array[i] = the_energystep(the_cube)\n",
    "    return energy_array"
   ]
  },
  {
   "cell_type": "code",
   "execution_count": 55,
   "metadata": {},
   "outputs": [],
   "source": [
    "loop001 = loop(0.001)"
   ]
  },
  {
   "cell_type": "code",
   "execution_count": 56,
   "metadata": {},
   "outputs": [],
   "source": [
    "loop01 = loop(0.01)"
   ]
  },
  {
   "cell_type": "code",
   "execution_count": 57,
   "metadata": {},
   "outputs": [],
   "source": [
    "loop1 = loop(0.1)"
   ]
  },
  {
   "cell_type": "code",
   "execution_count": 58,
   "metadata": {},
   "outputs": [
    {
     "data": {
      "image/png": "[encoded data removed]",
      "text/plain": [
       "<Figure size 432x288 with 1 Axes>"
      ]
     },
     "metadata": {
      "needs_background": "light"
     },
     "output_type": "display_data"
    }
   ],
   "source": [
    "#5f\n",
    "xstepp = np.linspace(0,3000,3000)\n",
    "plottingsteep = Table().with_columns(\"x\",xstepp,\"loop001\",loop001,\"loop01\",loop01,\"loop1\",loop1)\n",
    "plottingsteep.plot(0)"
   ]
  },
  {
   "cell_type": "code",
   "execution_count": null,
   "metadata": {},
   "outputs": [],
   "source": []
  },
  {
   "cell_type": "code",
   "execution_count": null,
   "metadata": {},
   "outputs": [],
   "source": []
  },
  {
   "cell_type": "code",
   "execution_count": null,
   "metadata": {},
   "outputs": [],
   "source": []
  },
  {
   "cell_type": "code",
   "execution_count": null,
   "metadata": {},
   "outputs": [],
   "source": []
  },
  {
   "cell_type": "code",
   "execution_count": null,
   "metadata": {},
   "outputs": [],
   "source": []
  },
  {
   "cell_type": "code",
   "execution_count": null,
   "metadata": {},
   "outputs": [],
   "source": []
  },
  {
   "cell_type": "code",
   "execution_count": null,
   "metadata": {},
   "outputs": [],
   "source": []
  }
 ],
 "metadata": {
  "kernelspec": {
   "display_name": "Python 3 (ipykernel)",
   "language": "python",
   "name": "python3"
  },
  "language_info": {
   "codemirror_mode": {
    "name": "ipython",
    "version": 3
   },
   "file_extension": ".py",
   "mimetype": "text/x-python",
   "name": "python",
   "nbconvert_exporter": "python",
   "pygments_lexer": "ipython3",
   "version": "3.10.11"
  }
 },
 "nbformat": 4,
 "nbformat_minor": 2
}
