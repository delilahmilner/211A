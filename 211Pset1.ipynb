{
 "cells": [
  {
   "cell_type": "code",
   "execution_count": 30,
   "metadata": {},
   "outputs": [],
   "source": [
    "import numpy as np\n",
    "from datascience import *\n",
    "import matplotlib.pyplot as plt\n",
    "%matplotlib inline\n",
    "plt.style.use('fast')\n",
    "import math"
   ]
  },
  {
   "cell_type": "code",
   "execution_count": 2,
   "metadata": {},
   "outputs": [],
   "source": [
    "# R = difference between r2 and r1\n",
    "# r2 (0,0,6) r1(0,0,0)\n",
    "# R = sqrt (x2-x1)2 + (y2-y1)2 + (z2-z1)2\n",
    "# R = sqrt (0-0)2 + (0-0)2 + (6-0)2\n",
    "# R = sqrt (0)2 + (0)2 + (6-0)2\n",
    "# R = sqrt 36\n",
    "# R = 6"
   ]
  },
  {
   "cell_type": "code",
   "execution_count": 3,
   "metadata": {},
   "outputs": [],
   "source": [
    "def Ulj(r2,r1):\n",
    "    difference = (r1[0]-r2[0])**2 + (r1[1]-r2[1])**2 + (r1[2]-r2[2])**2\n",
    "    radius = math.sqrt(difference)\n",
    "    potential = (4*1.77)*((4.10/radius)**12 - (4.10/radius)**6)\n",
    "    return potential"
   ]
  },
  {
   "cell_type": "code",
   "execution_count": 4,
   "metadata": {},
   "outputs": [],
   "source": [
    "array1 = make_array(0,0,0)\n",
    "array2 = make_array(0,0,6)"
   ]
  },
  {
   "cell_type": "code",
   "execution_count": 5,
   "metadata": {},
   "outputs": [
    {
     "name": "stdout",
     "output_type": "stream",
     "text": [
      "[-0.64743552] KJ/mol\n"
     ]
    }
   ],
   "source": [
    "the_example = make_array(Ulj(array1,array2))\n",
    "print(the_example,\"KJ/mol\")"
   ]
  },
  {
   "cell_type": "code",
   "execution_count": 6,
   "metadata": {},
   "outputs": [],
   "source": [
    "# I did 4b by hand on my sheet"
   ]
  },
  {
   "cell_type": "code",
   "execution_count": 7,
   "metadata": {},
   "outputs": [],
   "source": [
    "y_value = []\n",
    "for i in np.arange(1,10,0.01):\n",
    "    y_value.append(Ulj([0,0,0],([0,0,i])))\n",
    "energy_between = np.array(y_value)"
   ]
  },
  {
   "cell_type": "code",
   "execution_count": 8,
   "metadata": {},
   "outputs": [],
   "source": [
    "r_value = np.linspace(1,10,900)"
   ]
  },
  {
   "cell_type": "code",
   "execution_count": 9,
   "metadata": {},
   "outputs": [
    {
     "data": {
      "text/html": [
       "<table border=\"1\" class=\"dataframe\">\n",
       "    <thead>\n",
       "        <tr>\n",
       "            <th>R</th> <th>Energy</th>\n",
       "        </tr>\n",
       "    </thead>\n",
       "    <tbody>\n",
       "        <tr>\n",
       "            <td>3.73304</td> <td>9.53817</td>\n",
       "        </tr>\n",
       "        <tr>\n",
       "            <td>3.74305</td> <td>9.04076</td>\n",
       "        </tr>\n",
       "        <tr>\n",
       "            <td>3.75306</td> <td>8.56345</td>\n",
       "        </tr>\n",
       "        <tr>\n",
       "            <td>3.76307</td> <td>8.10545</td>\n",
       "        </tr>\n",
       "        <tr>\n",
       "            <td>3.77308</td> <td>7.66599</td>\n",
       "        </tr>\n",
       "        <tr>\n",
       "            <td>3.78309</td> <td>7.24434</td>\n",
       "        </tr>\n",
       "        <tr>\n",
       "            <td>3.7931 </td> <td>6.83981</td>\n",
       "        </tr>\n",
       "        <tr>\n",
       "            <td>3.80311</td> <td>6.45171</td>\n",
       "        </tr>\n",
       "        <tr>\n",
       "            <td>3.81313</td> <td>6.0794 </td>\n",
       "        </tr>\n",
       "        <tr>\n",
       "            <td>3.82314</td> <td>5.72226</td>\n",
       "        </tr>\n",
       "    </tbody>\n",
       "</table>\n",
       "<p>... (617 rows omitted)</p>"
      ],
      "text/plain": [
       "R       | Energy\n",
       "3.73304 | 9.53817\n",
       "3.74305 | 9.04076\n",
       "3.75306 | 8.56345\n",
       "3.76307 | 8.10545\n",
       "3.77308 | 7.66599\n",
       "3.78309 | 7.24434\n",
       "3.7931  | 6.83981\n",
       "3.80311 | 6.45171\n",
       "3.81313 | 6.0794\n",
       "3.82314 | 5.72226\n",
       "... (617 rows omitted)"
      ]
     },
     "execution_count": 9,
     "metadata": {},
     "output_type": "execute_result"
    }
   ],
   "source": [
    "the_table = Table().with_columns(\"R\",r_value,\"Energy\",energy_between).where(\"Energy\", are.below_or_equal_to(10))\n",
    "the_table"
   ]
  },
  {
   "cell_type": "code",
   "execution_count": 10,
   "metadata": {},
   "outputs": [
    {
     "data": {
      "image/png": "[encoded data removed]",
      "text/plain": [
       "<Figure size 432x288 with 1 Axes>"
      ]
     },
     "metadata": {
      "needs_background": "light"
     },
     "output_type": "display_data"
    }
   ],
   "source": [
    "the_visual = the_table.plot(0)"
   ]
  },
  {
   "cell_type": "code",
   "execution_count": 12,
   "metadata": {},
   "outputs": [
    {
     "data": {
      "text/html": [
       "<table border=\"1\" class=\"dataframe\">\n",
       "    <thead>\n",
       "        <tr>\n",
       "            <th>R</th> <th>Energy</th>\n",
       "        </tr>\n",
       "    </thead>\n",
       "    <tbody>\n",
       "        <tr>\n",
       "            <td>4.604</td> <td>-1.76999</td>\n",
       "        </tr>\n",
       "    </tbody>\n",
       "</table>\n",
       "<p>... (626 rows omitted)</p>"
      ],
      "text/plain": [
       "<IPython.core.display.HTML object>"
      ]
     },
     "metadata": {},
     "output_type": "display_data"
    }
   ],
   "source": [
    "proof_r_min = the_table.sort(\"Energy\")\n",
    "proof_r_min.show(1)"
   ]
  },
  {
   "cell_type": "code",
   "execution_count": 13,
   "metadata": {},
   "outputs": [],
   "source": [
    "# 2x2x2\n",
    "counter = 0\n",
    "b = np.zeros([8,3])\n",
    "\n",
    "for i in range(2):\n",
    "    for j in range(2):\n",
    "        for k in range(2):\n",
    "            b[counter] = make_array(i,j,k)\n",
    "            counter += 1"
   ]
  },
  {
   "cell_type": "code",
   "execution_count": 14,
   "metadata": {},
   "outputs": [
    {
     "data": {
      "text/plain": [
       "array([[0. , 0. , 0. ],\n",
       "       [0. , 0. , 4.6],\n",
       "       [0. , 4.6, 0. ],\n",
       "       [0. , 4.6, 4.6],\n",
       "       [4.6, 0. , 0. ],\n",
       "       [4.6, 0. , 4.6],\n",
       "       [4.6, 4.6, 0. ],\n",
       "       [4.6, 4.6, 4.6]])"
      ]
     },
     "execution_count": 14,
     "metadata": {},
     "output_type": "execute_result"
    }
   ],
   "source": [
    "rminxb = b*(4.6)\n",
    "rminxb"
   ]
  },
  {
   "cell_type": "code",
   "execution_count": 15,
   "metadata": {},
   "outputs": [],
   "source": [
    "the_array_for2 = []\n",
    "for i in range(len(rminxb)):\n",
    "    for j in range(1+i, len(rminxb)):\n",
    "        yfor2 = Ulj(rminxb[i],rminxb[j])\n",
    "        the_array_for2.append(yfor2)"
   ]
  },
  {
   "cell_type": "code",
   "execution_count": 16,
   "metadata": {},
   "outputs": [
    {
     "data": {
      "text/plain": [
       "[-1.7699867606312514,\n",
       " -1.7699867606312514,\n",
       " -0.4159024757727682,\n",
       " -1.7699867606312514,\n",
       " -0.4159024757727682,\n",
       " -0.4159024757727682,\n",
       " -0.12902840902094703,\n",
       " -0.4159024757727682,\n",
       " -1.7699867606312514,\n",
       " -0.4159024757727682,\n",
       " -1.7699867606312514,\n",
       " -0.12902840902094703,\n",
       " -0.4159024757727682,\n",
       " -1.7699867606312514,\n",
       " -0.4159024757727682,\n",
       " -0.12902840902094703,\n",
       " -1.7699867606312514,\n",
       " -0.4159024757727682,\n",
       " -0.12902840902094703,\n",
       " -0.4159024757727682,\n",
       " -0.4159024757727682,\n",
       " -1.7699867606312514,\n",
       " -1.7699867606312514,\n",
       " -1.7699867606312514,\n",
       " -0.4159024757727682,\n",
       " -0.4159024757727682,\n",
       " -1.7699867606312514,\n",
       " -1.7699867606312514]"
      ]
     },
     "execution_count": 16,
     "metadata": {},
     "output_type": "execute_result"
    }
   ],
   "source": [
    "the_array_for2"
   ]
  },
  {
   "cell_type": "code",
   "execution_count": 17,
   "metadata": {},
   "outputs": [
    {
     "data": {
      "text/plain": [
       "-26.74678447293202"
      ]
     },
     "execution_count": 17,
     "metadata": {},
     "output_type": "execute_result"
    }
   ],
   "source": [
    "thesum = np.sum(the_array_for2)\n",
    "thesum"
   ]
  },
  {
   "cell_type": "code",
   "execution_count": 18,
   "metadata": {},
   "outputs": [],
   "source": [
    "#3x3x3\n",
    "counter = 0\n",
    "v = np.zeros([27,3])\n",
    "\n",
    "for i in range(3):\n",
    "    for j in range(3):\n",
    "        for k in range(3):\n",
    "            v[counter] = make_array(i,j,k)\n",
    "            counter += 1"
   ]
  },
  {
   "cell_type": "code",
   "execution_count": 19,
   "metadata": {},
   "outputs": [
    {
     "data": {
      "text/plain": [
       "array([[0. , 0. , 0. ],\n",
       "       [0. , 0. , 4.6],\n",
       "       [0. , 0. , 9.2],\n",
       "       [0. , 4.6, 0. ],\n",
       "       [0. , 4.6, 4.6],\n",
       "       [0. , 4.6, 9.2],\n",
       "       [0. , 9.2, 0. ],\n",
       "       [0. , 9.2, 4.6],\n",
       "       [0. , 9.2, 9.2],\n",
       "       [4.6, 0. , 0. ],\n",
       "       [4.6, 0. , 4.6],\n",
       "       [4.6, 0. , 9.2],\n",
       "       [4.6, 4.6, 0. ],\n",
       "       [4.6, 4.6, 4.6],\n",
       "       [4.6, 4.6, 9.2],\n",
       "       [4.6, 9.2, 0. ],\n",
       "       [4.6, 9.2, 4.6],\n",
       "       [4.6, 9.2, 9.2],\n",
       "       [9.2, 0. , 0. ],\n",
       "       [9.2, 0. , 4.6],\n",
       "       [9.2, 0. , 9.2],\n",
       "       [9.2, 4.6, 0. ],\n",
       "       [9.2, 4.6, 4.6],\n",
       "       [9.2, 4.6, 9.2],\n",
       "       [9.2, 9.2, 0. ],\n",
       "       [9.2, 9.2, 4.6],\n",
       "       [9.2, 9.2, 9.2]])"
      ]
     },
     "execution_count": 19,
     "metadata": {},
     "output_type": "execute_result"
    }
   ],
   "source": [
    "rminxv = v*4.6\n",
    "rminxv"
   ]
  },
  {
   "cell_type": "code",
   "execution_count": 20,
   "metadata": {},
   "outputs": [],
   "source": [
    "the_array_for3 = []\n",
    "for i in range(len(rminxv)):\n",
    "    for j in range(1+i, len(rminxv)):\n",
    "        yfor3 = Ulj(rminxv[i],rminxv[j])\n",
    "        the_array_for3.append(yfor3)"
   ]
  },
  {
   "cell_type": "code",
   "execution_count": 21,
   "metadata": {},
   "outputs": [
    {
     "data": {
      "text/plain": [
       "-134.21203332265446"
      ]
     },
     "execution_count": 21,
     "metadata": {},
     "output_type": "execute_result"
    }
   ],
   "source": [
    "thesumfor3 = np.sum(the_array_for3)\n",
    "thesumfor3"
   ]
  },
  {
   "cell_type": "code",
   "execution_count": 48,
   "metadata": {},
   "outputs": [],
   "source": [
    "##### the value on the left is the energy per each interaction energy for a NxNxN cube\n",
    "#### the value on the right is the energy per each atom\n",
    "def NxNxN(N):\n",
    "    counter = 0\n",
    "    f = (N**3)\n",
    "    g = np.zeros([f,3])\n",
    "\n",
    "    for i in range(N):\n",
    "        for j in range(N):\n",
    "            for k in range(N):\n",
    "                g[counter] = make_array(i,j,k)\n",
    "                counter += 1\n",
    "    d = (g*4.6)\n",
    "    the_array_forN = []\n",
    "    for i in range(len(d)):\n",
    "        for j in range(1+i, len(d)):\n",
    "            yforN = Ulj(d[i],d[j])\n",
    "            the_array_forN.append(yforN)\n",
    "    return print((np.sum(the_array_forN)), (np.sum(the_array_forN)/f))"
   ]
  },
  {
   "cell_type": "code",
   "execution_count": 49,
   "metadata": {},
   "outputs": [
    {
     "name": "stdout",
     "output_type": "stream",
     "text": [
      "-26.74678447293202 -3.3433480591165026\n"
     ]
    }
   ],
   "source": [
    "x2x2 = NxNxN(2)"
   ]
  },
  {
   "cell_type": "code",
   "execution_count": 66,
   "metadata": {},
   "outputs": [
    {
     "name": "stdout",
     "output_type": "stream",
     "text": [
      "-134.21203332265446 -4.970816048987202\n"
     ]
    }
   ],
   "source": [
    "x3x3 = NxNxN(3)"
   ]
  },
  {
   "cell_type": "code",
   "execution_count": null,
   "metadata": {},
   "outputs": [],
   "source": [
    "#### this should spit out all the the arrays, the only problem is when I ran it\n",
    "#### the kernel stopped working I think its because it take a lot of computing power\n",
    "#### ...... I would just keep that in mind\n",
    "storage = []\n",
    "for i in np.arange(1,21,1):\n",
    "    storage.append(NxNxN(i))\n",
    "the_value_for_nxnxn = np.array(storage)"
   ]
  }
 ],
 "metadata": {
  "kernelspec": {
   "display_name": "Python 3 (ipykernel)",
   "language": "python",
   "name": "python3"
  },
  "language_info": {
   "codemirror_mode": {
    "name": "ipython",
    "version": 3
   },
   "file_extension": ".py",
   "mimetype": "text/x-python",
   "name": "python",
   "nbconvert_exporter": "python",
   "pygments_lexer": "ipython3",
   "version": "3.10.11"
  }
 },
 "nbformat": 4,
 "nbformat_minor": 2
}
