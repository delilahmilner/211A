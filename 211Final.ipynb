{
 "cells": [
  {
   "cell_type": "code",
   "execution_count": 1,
   "id": "12eedfa9",
   "metadata": {},
   "outputs": [],
   "source": [
    "import numpy as np\n",
    "import matplotlib.pyplot as plt\n",
    "import random"
   ]
  },
  {
   "cell_type": "code",
   "execution_count": null,
   "id": "d6e8780f",
   "metadata": {},
   "outputs": [],
   "source": []
  },
  {
   "cell_type": "code",
   "execution_count": null,
   "id": "ef62001d",
   "metadata": {},
   "outputs": [],
   "source": [
    "# I used 300 as K, however it can be ran at any temperature "
   ]
  },
  {
   "cell_type": "code",
   "execution_count": 2,
   "id": "10373b95",
   "metadata": {},
   "outputs": [],
   "source": [
    "def Ktr (HI,I2,H2,T):\n",
    "    HITR = ( ((2*np.pi*HI*1.38e-23*T)**(1/2)) /6.626e-34)**3\n",
    "    I2TR = ( ((2*np.pi*I2*1.38e-23*T)**(1/2)) /6.626e-34)**3\n",
    "    H2fTR = ( ((2*np.pi*H2*1.38e-23*T)**(1/2)) /6.626e-34)**3\n",
    "    Keq = (HITR**2) / (I2TR * H2fTR)\n",
    "    return Keq * 6.022e26"
   ]
  },
  {
   "cell_type": "code",
   "execution_count": 3,
   "id": "856e1357",
   "metadata": {},
   "outputs": [
    {
     "name": "stdout",
     "output_type": "stream",
     "text": [
      "at 300K the translational ratio is 1.0864066705497393e+29\n"
     ]
    }
   ],
   "source": [
    "# this is the value of the translational ratio at 300 \n",
    "# mass is in Kg\n",
    "Ktr_at_300 = Ktr(2.12e-25,4.24e-25,3.32e-27,300)\n",
    "print(\"at 300K the translational ratio is\", Ktr_at_300)"
   ]
  },
  {
   "cell_type": "code",
   "execution_count": 4,
   "id": "673ecfbf",
   "metadata": {},
   "outputs": [],
   "source": [
    "# both I2 and HI are linear but they have 2 rot constant\n",
    "# what I did is used the formula for linear molecules and multipled\n",
    "# them similarly to what we did in pset 6 with vib\n",
    "def Krot (HIA,HIB,I2A,I2B,BH2, sigmaHI,sigmaH2,sigmaI2,T):\n",
    "    HI = (1.38e-23*T/ (sigmaHI*HIA)) * (1.38e-23*T/ (sigmaHI*HIB))\n",
    "    I2 = (1.38e-23*T/ (sigmaI2*I2A) ) * (1.38e-23*T/ (sigmaI2*I2B))\n",
    "    H2 = (1.38e-23*T/ (sigmaH2*BH2) )\n",
    "    return (HI**2) / (I2* H2)"
   ]
  },
  {
   "cell_type": "code",
   "execution_count": 5,
   "id": "624a94cb",
   "metadata": {},
   "outputs": [],
   "source": [
    "# conversion from cm to kj/mol\n",
    "one = (6.42637*100*3e8*6.626e-34)\n",
    "two = (6.42637*100*3e8*6.626e-34)\n",
    "three = (0.3737*100*3e8*6.626e-34)\n",
    "four = (0.3737*100*3e8*6.626e-34)\n",
    "five = (60.844*100*3e8*6.626e-34)"
   ]
  },
  {
   "cell_type": "code",
   "execution_count": 6,
   "id": "3a0af8bc",
   "metadata": {},
   "outputs": [
    {
     "name": "stdout",
     "output_type": "stream",
     "text": [
      "at 300K the rotational ratio is 8.300775896414768\n"
     ]
    }
   ],
   "source": [
    "Krot_at_300 = Krot(one,two,three,four,five,1,2,2,300)\n",
    "print (\"at 300K the rotational ratio is\", Krot_at_300)"
   ]
  },
  {
   "cell_type": "code",
   "execution_count": 7,
   "id": "fd3ae36d",
   "metadata": {},
   "outputs": [],
   "source": [
    "def Kvib (HIw, H2w, I2w, T):\n",
    "    Beta = 1/(1.38e-23*T)\n",
    "    h = 6.626e-34\n",
    "\n",
    "    HIBHw = Beta*h*HIw*3e8*100\n",
    "    H2BHw = Beta*h*H2w*3e8*100\n",
    "    I2BHw = Beta*h*I2w*3e8*100\n",
    "\n",
    "    HIf = (np.exp(-1*HIBHw/2)) / ( 1-np.exp(-1*HIBHw) )\n",
    "    H2f = (np.exp(-1*H2BHw/2)) / ( 1-np.exp(-1*H2BHw) )\n",
    "    I2f = (np.exp(-1*I2BHw/2)) / ( 1-np.exp(-1*I2BHw) )\n",
    "    \n",
    "    return (HIf**2) / ( I2f * H2f )"
   ]
  },
  {
   "cell_type": "code",
   "execution_count": 8,
   "id": "a69ff3ee",
   "metadata": {},
   "outputs": [
    {
     "name": "stdout",
     "output_type": "stream",
     "text": [
      "at 300K the vibrational ratio is 0.5209452471648024\n"
     ]
    }
   ],
   "source": [
    "Kvib_at_300 = Kvib(2230,4161,213,300)\n",
    "print (\"at 300K the vibrational ratio is\", Kvib_at_300)"
   ]
  },
  {
   "cell_type": "code",
   "execution_count": 9,
   "id": "9a2df39d",
   "metadata": {},
   "outputs": [],
   "source": [
    "def Kel (HIE, I2E, H2E, T):\n",
    "    temp = 0.0083144*T\n",
    "    HI = np.exp(-1*HIE/temp)\n",
    "    I2 = np.exp(-1*I2E/temp)\n",
    "    H2 = np.exp(-1*H2E/temp)\n",
    "    return (HI**2) / (I2 * H2)"
   ]
  },
  {
   "cell_type": "code",
   "execution_count": 10,
   "id": "eff2dcbb",
   "metadata": {},
   "outputs": [
    {
     "name": "stdout",
     "output_type": "stream",
     "text": [
      "at 300K the electronic ratio is 14498.636246633974\n"
     ]
    }
   ],
   "source": [
    "Kel_at_300 = Kel(-330.225,-179.5499,-457,300)\n",
    "print (\"at 300K the electronic ratio is\", Kel_at_300)"
   ]
  },
  {
   "cell_type": "code",
   "execution_count": 11,
   "id": "a7f22e98",
   "metadata": {},
   "outputs": [],
   "source": [
    "def Kproduct (T):\n",
    "    Ktranslational = Ktr(2.12e-25,4.24e-25,3.32e-27,T)\n",
    "    Krotational = Krot(one,two,three,four,five,1,2,2,T)\n",
    "    Kvibrational = Kvib(2230,4161,213,T)\n",
    "    Kelectronic = Kel(-330.225,-179.5499,-457 , T)\n",
    "    return Ktranslational * Krotational * Kvibrational * Kelectronic"
   ]
  },
  {
   "cell_type": "code",
   "execution_count": 12,
   "id": "727c3985",
   "metadata": {},
   "outputs": [],
   "source": [
    "Keq = []\n",
    "for i in np.arange(300,3000,1):\n",
    "    Keq.append(Kproduct(i))\n",
    "Keq_array = np.array(Keq)"
   ]
  },
  {
   "cell_type": "code",
   "execution_count": 13,
   "id": "d949723a",
   "metadata": {},
   "outputs": [],
   "source": [
    "log10Keq = np.log10(Keq_array)"
   ]
  },
  {
   "cell_type": "code",
   "execution_count": 14,
   "id": "2d502260",
   "metadata": {},
   "outputs": [
    {
     "data": {
      "text/plain": [
       "[<matplotlib.lines.Line2D at 0x2af85d38ca0>]"
      ]
     },
     "execution_count": 14,
     "metadata": {},
     "output_type": "execute_result"
    },
    {
     "data": {
      "image/png": "[encoded data removed]",
      "text/plain": [
       "<Figure size 432x288 with 1 Axes>"
      ]
     },
     "metadata": {
      "needs_background": "light"
     },
     "output_type": "display_data"
    }
   ],
   "source": [
    "plt.plot(np.arange(300,3000,1),Keq)"
   ]
  },
  {
   "cell_type": "code",
   "execution_count": 15,
   "id": "e38c97c9",
   "metadata": {},
   "outputs": [
    {
     "data": {
      "text/plain": [
       "[<matplotlib.lines.Line2D at 0x2af864c2220>]"
      ]
     },
     "execution_count": 15,
     "metadata": {},
     "output_type": "execute_result"
    },
    {
     "data": {
      "image/png": "[encoded data removed]",
      "text/plain": [
       "<Figure size 432x288 with 1 Axes>"
      ]
     },
     "metadata": {
      "needs_background": "light"
     },
     "output_type": "display_data"
    }
   ],
   "source": [
    "plt.plot(np.arange(300,3000,1),log10Keq)"
   ]
  },
  {
   "cell_type": "code",
   "execution_count": 16,
   "id": "cd842d9f",
   "metadata": {},
   "outputs": [
    {
     "name": "stdout",
     "output_type": "stream",
     "text": [
      "Keq at 300K is 6.811305296366313e+33\n",
      "Keq at 1000K is 1.43237426600731e+31\n",
      "Keq at 3000K is 4.4798869763282135e+30\n"
     ]
    }
   ],
   "source": [
    "at_300 = Kproduct(300)\n",
    "print(\"Keq at 300K is\",at_300)\n",
    "at_1000 = Kproduct(1000)\n",
    "print(\"Keq at 1000K is\", at_1000)\n",
    "at_3000 = Kproduct(3000)\n",
    "print(\"Keq at 3000K is\", at_3000)"
   ]
  },
  {
   "cell_type": "code",
   "execution_count": null,
   "id": "e77bf920",
   "metadata": {},
   "outputs": [],
   "source": []
  },
  {
   "cell_type": "code",
   "execution_count": null,
   "id": "0bdae345",
   "metadata": {},
   "outputs": [],
   "source": [
    "# I skipped to number 4"
   ]
  },
  {
   "cell_type": "code",
   "execution_count": null,
   "id": "375a44ea",
   "metadata": {},
   "outputs": [],
   "source": []
  },
  {
   "cell_type": "code",
   "execution_count": 17,
   "id": "ed5f2cc4",
   "metadata": {},
   "outputs": [],
   "source": [
    "# perameters \n",
    "# the circle goes from 0 to 2pi\n",
    "# the vector = np.sqrt ( cos(theta)**2 + sin(theta)**2 )"
   ]
  },
  {
   "cell_type": "code",
   "execution_count": 22,
   "id": "3a664bec",
   "metadata": {},
   "outputs": [],
   "source": [
    "spins = np.ones(20)\n",
    "\n",
    "def quantum_energy(spins,kt):\n",
    "    return -1*np.dot(spins[1:], spins[:-1])"
   ]
  },
  {
   "cell_type": "code",
   "execution_count": 23,
   "id": "9bba879f",
   "metadata": {},
   "outputs": [],
   "source": [
    "def quantum_move(spins,kt):\n",
    "    spin1 = quantum_energy(spins,kt)\n",
    "    # flipping a spin\n",
    "    the_flipped_spin = np.random.choice([0,1,2,3,4,5,6,7,8,9,10,11,12,13,14,15,16,17,18,19])\n",
    "    # there are 20 spins that can be flipped \n",
    "    spins[the_flipped_spin] *= -1   \n",
    "    spins2 = quantum_energy(spins,kt)\n",
    "    if spins2 < spin1 : \n",
    "        pass\n",
    "    else:\n",
    "        energy = np.exp(-(spins2-spin1)/kt)\n",
    "        if np.random.random() < energy:\n",
    "            pass\n",
    "        else:\n",
    "            spins[the_flipped_spin] *= -1"
   ]
  },
  {
   "cell_type": "code",
   "execution_count": 78,
   "id": "f83b4b91",
   "metadata": {},
   "outputs": [],
   "source": [
    "def magnitude(spins):\n",
    "    return np.sum(spins)"
   ]
  },
  {
   "cell_type": "code",
   "execution_count": 82,
   "id": "05171090",
   "metadata": {},
   "outputs": [],
   "source": [
    "n_steps = 100000\n",
    "magnitudes = np.zeros(100000)\n",
    "for i in range(100000):\n",
    "    magnitudes[i] = magnitude(spins)\n",
    "    quantum_move(spins,1)"
   ]
  },
  {
   "cell_type": "code",
   "execution_count": 83,
   "id": "bf4360a0",
   "metadata": {},
   "outputs": [],
   "source": [
    "bin_edge = np.array([-1, 1, 3, 5, 7, 9, 11, 13, 15, 17, 19, 21])"
   ]
  },
  {
   "cell_type": "code",
   "execution_count": 84,
   "id": "781c8956",
   "metadata": {},
   "outputs": [
    {
     "data": {
      "image/png": "[encoded data removed]",
      "text/plain": [
       "<Figure size 432x288 with 1 Axes>"
      ]
     },
     "metadata": {
      "needs_background": "light"
     },
     "output_type": "display_data"
    }
   ],
   "source": [
    "plt.hist(magnitudes, bins = bin_edge)\n",
    "plt.show()"
   ]
  },
  {
   "cell_type": "code",
   "execution_count": null,
   "id": "f88c44c5",
   "metadata": {},
   "outputs": [],
   "source": [
    "# 2KBT"
   ]
  },
  {
   "cell_type": "code",
   "execution_count": 104,
   "id": "e4ca31f1",
   "metadata": {},
   "outputs": [],
   "source": [
    "spins2kbt = np.ones(20)\n",
    "n_steps2kbt = 100000\n",
    "magnitudes2kbt = np.zeros(100000)\n",
    "for i in range(100000):\n",
    "    magnitudes2kbt[i] = magnitude(spins2kbt)\n",
    "    quantum_move(spins2kbt,2)"
   ]
  },
  {
   "cell_type": "code",
   "execution_count": 105,
   "id": "22576f6a",
   "metadata": {},
   "outputs": [
    {
     "data": {
      "image/png": "[encoded data removed]",
      "text/plain": [
       "<Figure size 432x288 with 1 Axes>"
      ]
     },
     "metadata": {
      "needs_background": "light"
     },
     "output_type": "display_data"
    }
   ],
   "source": [
    "plt.hist(magnitudes2kbt, bins = bin_edge)\n",
    "plt.show()"
   ]
  },
  {
   "cell_type": "code",
   "execution_count": 106,
   "id": "d741e10f",
   "metadata": {},
   "outputs": [],
   "source": [
    "#4kbt"
   ]
  },
  {
   "cell_type": "code",
   "execution_count": 107,
   "id": "7460f516",
   "metadata": {},
   "outputs": [],
   "source": [
    "spins4kbt = np.ones(20)\n",
    "n_steps4kbt = 100000\n",
    "magnitudes4kbt = np.zeros(100000)\n",
    "for i in range(100000):\n",
    "    magnitudes4kbt[i] = magnitude(spins4kbt)\n",
    "    quantum_move(spins4kbt,4)"
   ]
  },
  {
   "cell_type": "code",
   "execution_count": 108,
   "id": "a10a6ef7",
   "metadata": {},
   "outputs": [
    {
     "data": {
      "image/png": "[encoded data removed]",
      "text/plain": [
       "<Figure size 432x288 with 1 Axes>"
      ]
     },
     "metadata": {
      "needs_background": "light"
     },
     "output_type": "display_data"
    }
   ],
   "source": [
    "plt.hist(magnitudes4kbt, bins = bin_edge)\n",
    "plt.show()"
   ]
  },
  {
   "cell_type": "code",
   "execution_count": null,
   "id": "11d46be5",
   "metadata": {},
   "outputs": [],
   "source": []
  },
  {
   "cell_type": "code",
   "execution_count": null,
   "id": "e696012d",
   "metadata": {},
   "outputs": [],
   "source": []
  },
  {
   "cell_type": "code",
   "execution_count": 59,
   "id": "0d6d53ec",
   "metadata": {},
   "outputs": [
    {
     "data": {
      "text/plain": [
       "array([1., 1., 1., 1., 1., 1., 1., 1., 1., 1., 1., 1., 1., 1., 1., 1., 1.,\n",
       "       1., 1., 1.])"
      ]
     },
     "execution_count": 59,
     "metadata": {},
     "output_type": "execute_result"
    }
   ],
   "source": [
    "# starts at all up\n",
    "up_positions = np.zeros(20)\n",
    "classical_spins = np.sqrt ( (np.cos(up_positions))**2 + (np.sin(up_positions))**2 )\n",
    "classical_spins"
   ]
  },
  {
   "cell_type": "code",
   "execution_count": 60,
   "id": "2b4d801e",
   "metadata": {},
   "outputs": [],
   "source": [
    "def classical_energy(classical_spins,kt):\n",
    "    return -1*np.dot(classical_spins[1:], classical_spins[:-1])"
   ]
  },
  {
   "cell_type": "code",
   "execution_count": 71,
   "id": "2a9f2b05",
   "metadata": {},
   "outputs": [],
   "source": [
    "def classical_move(classical_spins,kt):\n",
    "    spin1 = classical_energy(classical_spins,kt)\n",
    "    # flipping a spin\n",
    "    # the possible values of theta are 0 to 2pi\n",
    "    the_flipped_spin = np.random.choice([0,1,2,3,4,5,6,7,8,9,10,11,12,13,14,15,16,17,18,19])\n",
    "    values_of_theta = np.linspace(0,2*np.pi,50)\n",
    "    theta = np.random.choice(values_of_theta)\n",
    "    # the vector is np.sqrt ( cos(theta)**2 + sin(theta)**2 )\n",
    "    new_vector = np.sqrt ( (np.cos(theta))**2 + (np.sin(theta))**2 )\n",
    "    classical_spins[the_flipped_spin] *= -1 \n",
    "    spins2 = classical_energy(classical_spins,kt)\n",
    "    if spins2 < spin1 : \n",
    "        pass\n",
    "    else:\n",
    "        energy = np.exp(-(spins2-spin1)/kt)\n",
    "        if np.random.random() < energy:\n",
    "            pass\n",
    "        else:\n",
    "            classical_spins[the_flipped_spin] *= new_vector"
   ]
  },
  {
   "cell_type": "code",
   "execution_count": 109,
   "id": "e01d3483",
   "metadata": {},
   "outputs": [],
   "source": [
    "def classical_magnitude(spins):\n",
    "    return np.sum(spins)"
   ]
  },
  {
   "cell_type": "code",
   "execution_count": 110,
   "id": "010c5460",
   "metadata": {},
   "outputs": [],
   "source": [
    "n_steps = 100000\n",
    "classical_magnitudes = np.zeros(100000)\n",
    "for i in range(100000):\n",
    "    classical_magnitudes[i] = classical_magnitude(spins)\n",
    "    classical_move(spins,1)"
   ]
  },
  {
   "cell_type": "code",
   "execution_count": 111,
   "id": "f150c7df",
   "metadata": {},
   "outputs": [
    {
     "data": {
      "image/png": "[encoded data removed]",
      "text/plain": [
       "<Figure size 432x288 with 1 Axes>"
      ]
     },
     "metadata": {
      "needs_background": "light"
     },
     "output_type": "display_data"
    }
   ],
   "source": [
    "plt.hist(classical_magnitudes, bins = bin_edge)\n",
    "plt.show()"
   ]
  },
  {
   "cell_type": "code",
   "execution_count": 101,
   "id": "af9d4001",
   "metadata": {},
   "outputs": [],
   "source": [
    "#2kbt\n",
    "up_positions2kbt = np.zeros(20)\n",
    "classical_spins2kbt = np.sqrt ( (np.cos(up_positions))**2 + (np.sin(up_positions))**2 )"
   ]
  },
  {
   "cell_type": "code",
   "execution_count": 112,
   "id": "fbcc0515",
   "metadata": {},
   "outputs": [],
   "source": [
    "n_steps2kbtclassical = 100000\n",
    "classical_magnitudes2kbt = np.zeros(100000)\n",
    "for i in range(100000):\n",
    "    classical_magnitudes2kbt[i] = classical_magnitude(spins)\n",
    "    classical_move(spins,2)"
   ]
  },
  {
   "cell_type": "code",
   "execution_count": 113,
   "id": "4a90c566",
   "metadata": {},
   "outputs": [
    {
     "data": {
      "image/png": "[encoded data removed]",
      "text/plain": [
       "<Figure size 432x288 with 1 Axes>"
      ]
     },
     "metadata": {
      "needs_background": "light"
     },
     "output_type": "display_data"
    }
   ],
   "source": [
    "plt.hist(classical_magnitudes2kbt, bins = bin_edge)\n",
    "plt.show()"
   ]
  },
  {
   "cell_type": "code",
   "execution_count": 114,
   "id": "1723c171",
   "metadata": {},
   "outputs": [],
   "source": [
    "# 4kbt"
   ]
  },
  {
   "cell_type": "code",
   "execution_count": 115,
   "id": "edb4ab64",
   "metadata": {},
   "outputs": [],
   "source": [
    "#4kbt\n",
    "up_positions4kbt = np.zeros(20)\n",
    "classical_spins4kbt = np.sqrt ( (np.cos(up_positions))**2 + (np.sin(up_positions))**2 )"
   ]
  },
  {
   "cell_type": "code",
   "execution_count": 116,
   "id": "2f56a7eb",
   "metadata": {},
   "outputs": [],
   "source": [
    "n_steps4kbtclassical = 100000\n",
    "classical_magnitudes4kbt = np.zeros(100000)\n",
    "for i in range(100000):\n",
    "    classical_magnitudes4kbt[i] = classical_magnitude(spins)\n",
    "    classical_move(spins,4)"
   ]
  },
  {
   "cell_type": "code",
   "execution_count": 117,
   "id": "c983ee05",
   "metadata": {},
   "outputs": [
    {
     "data": {
      "image/png": "[encoded data removed]",
      "text/plain": [
       "<Figure size 432x288 with 1 Axes>"
      ]
     },
     "metadata": {
      "needs_background": "light"
     },
     "output_type": "display_data"
    }
   ],
   "source": [
    "plt.hist(classical_magnitudes4kbt, bins = bin_edge)\n",
    "plt.show()"
   ]
  },
  {
   "cell_type": "code",
   "execution_count": 118,
   "id": "b35b2404",
   "metadata": {},
   "outputs": [],
   "source": [
    "# classical has a lower magnitude \n",
    "# at higher temps the quantum system looks like the classical\n",
    "# at higher temperatures the magnitizations drops"
   ]
  },
  {
   "cell_type": "code",
   "execution_count": null,
   "id": "98716b3a",
   "metadata": {},
   "outputs": [],
   "source": []
  },
  {
   "cell_type": "code",
   "execution_count": null,
   "id": "f2d7c225",
   "metadata": {},
   "outputs": [],
   "source": []
  },
  {
   "cell_type": "code",
   "execution_count": null,
   "id": "f8cd9b51",
   "metadata": {},
   "outputs": [],
   "source": [
    "# number 3"
   ]
  },
  {
   "cell_type": "code",
   "execution_count": null,
   "id": "6d0ea8f7",
   "metadata": {},
   "outputs": [],
   "source": []
  },
  {
   "cell_type": "code",
   "execution_count": null,
   "id": "cc83eeea",
   "metadata": {},
   "outputs": [],
   "source": []
  },
  {
   "cell_type": "code",
   "execution_count": 141,
   "id": "264a7471",
   "metadata": {},
   "outputs": [],
   "source": [
    "def molecules_adsorbed(P):\n",
    "    #conversion from frequency to KJ/mol\n",
    "    omega = 100*100*3e8*6.626e-34\n",
    "    hJ = 6.626e-34\n",
    "    Planck_constant = (hJ)**3\n",
    "    massH2 = 3.32e-27\n",
    "    mass2pi = (massH2*np.pi*2)**(3/2)\n",
    "    Kb = 1.38e-23\n",
    "    KbT = Kb*300\n",
    "    temp = (KbT)**(5/2)\n",
    "    beta = 1/(KbT)\n",
    "    PqT = (mass2pi*temp)/Planck_constant\n",
    "    epsilon = (30*1000)/6.022e23\n",
    "    energy = epsilon + hJ*omega\n",
    "    exponential = PqT*np.exp(-1*beta*energy)\n",
    "    return P/(P+exponential)"
   ]
  },
  {
   "cell_type": "code",
   "execution_count": 142,
   "id": "4400fdce",
   "metadata": {},
   "outputs": [],
   "source": [
    "P110 = []\n",
    "for i in np.arange(0,1013250,5000):\n",
    "    P110.append(molecules_adsorbed(i))\n",
    "theta300 = np.array(P110)"
   ]
  },
  {
   "cell_type": "code",
   "execution_count": 143,
   "id": "2c4feff5",
   "metadata": {},
   "outputs": [
    {
     "data": {
      "text/plain": [
       "[<matplotlib.lines.Line2D at 0x2af86777ee0>]"
      ]
     },
     "execution_count": 143,
     "metadata": {},
     "output_type": "execute_result"
    },
    {
     "data": {
      "image/png": "[encoded data removed]",
      "text/plain": [
       "<Figure size 432x288 with 1 Axes>"
      ]
     },
     "metadata": {
      "needs_background": "light"
     },
     "output_type": "display_data"
    }
   ],
   "source": [
    "plt.plot(np.arange(1,1013250,5000),P110)"
   ]
  },
  {
   "cell_type": "code",
   "execution_count": 144,
   "id": "4d14c298",
   "metadata": {},
   "outputs": [
    {
     "data": {
      "text/plain": [
       "0.5988071440958016"
      ]
     },
     "execution_count": 144,
     "metadata": {},
     "output_type": "execute_result"
    }
   ],
   "source": [
    "# 1 ATM\n",
    "molecules_adsorbed(101325)"
   ]
  },
  {
   "cell_type": "code",
   "execution_count": 145,
   "id": "c1276251",
   "metadata": {},
   "outputs": [
    {
     "data": {
      "text/plain": [
       "0.8174416420297593"
      ]
     },
     "execution_count": 145,
     "metadata": {},
     "output_type": "execute_result"
    }
   ],
   "source": [
    "# 3 ATM\n",
    "molecules_adsorbed(303975)"
   ]
  },
  {
   "cell_type": "code",
   "execution_count": null,
   "id": "c3f6d651",
   "metadata": {},
   "outputs": [],
   "source": []
  },
  {
   "cell_type": "markdown",
   "id": "d269fd06",
   "metadata": {},
   "source": [
    "I hope you have a wonderful break. It has been a really nice class. See you around!"
   ]
  },
  {
   "cell_type": "code",
   "execution_count": null,
   "id": "fcffa2e5",
   "metadata": {},
   "outputs": [],
   "source": []
  },
  {
   "cell_type": "code",
   "execution_count": null,
   "id": "c5446b90",
   "metadata": {},
   "outputs": [],
   "source": []
  }
 ],
 "metadata": {
  "kernelspec": {
   "display_name": "Python 3 (ipykernel)",
   "language": "python",
   "name": "python3"
  },
  "language_info": {
   "codemirror_mode": {
    "name": "ipython",
    "version": 3
   },
   "file_extension": ".py",
   "mimetype": "text/x-python",
   "name": "python",
   "nbconvert_exporter": "python",
   "pygments_lexer": "ipython3",
   "version": "3.10.11"
  }
 },
 "nbformat": 4,
 "nbformat_minor": 5
}
