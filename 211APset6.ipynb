{
 "cells": [
  {
   "cell_type": "code",
   "execution_count": 3,
   "id": "b503bcbd",
   "metadata": {},
   "outputs": [],
   "source": [
    "import openmm as openmm\n",
    "import numpy as np\n",
    "from openmm.app import *\n",
    "from openmm import *\n",
    "from simtk.unit import *\n",
    "from sys import stdout\n",
    "import matplotlib.pyplot as plt\n",
    "from scipy.stats import sem"
   ]
  },
  {
   "cell_type": "code",
   "execution_count": 2,
   "id": "de875e37",
   "metadata": {},
   "outputs": [],
   "source": [
    "def Ktr (NH3,N2,H2,T):\n",
    "    NH3fTR = ( ((2*np.pi*NH3*1.38e-23*T)**(1/2)) /6.626e-34)**3\n",
    "    N2fTR = ( ((2*np.pi*N2*1.38e-23*T)**(1/2)) /6.626e-34)**3\n",
    "    H2fTR = ( ((2*np.pi*H2*1.38e-23*T)**(1/2)) /6.626e-34)**3\n",
    "    Keq = NH3fTR / (N2fTR**(1/2) * H2fTR**(3/2))\n",
    "    return Keq * 6.022e26"
   ]
  },
  {
   "cell_type": "code",
   "execution_count": 3,
   "id": "6d7e9281",
   "metadata": {},
   "outputs": [
    {
     "name": "stdout",
     "output_type": "stream",
     "text": [
      "K translational is 0.00016960097017117433 at 800K\n"
     ]
    }
   ],
   "source": [
    "# mass is in Kg\n",
    "translational = Ktr(2.8e-26,4.649e-26,3.32e-27,800)\n",
    "print(\"K translational is\", translational, \"at 800K\")"
   ]
  },
  {
   "cell_type": "code",
   "execution_count": 4,
   "id": "2d5df167",
   "metadata": {},
   "outputs": [],
   "source": [
    "def Krot (BaNH3,BbNH3,BcNH3,BH2,BN2, sigmaNH3,sigmaH2,sigmaN2,T):\n",
    "    NH3 = ((np.pi**(1/2))/sigmaNH3) * np.sqrt( ((1.38e-23*T)**3) / (BaNH3*BbNH3*BcNH3) )\n",
    "    N2 = (1.38e-23*T/ (sigmaN2*BN2) )\n",
    "    H2 = (1.38e-23*T/ (sigmaH2*BH2) )\n",
    "    return NH3/ (N2**(1/2) * H2**(3/2))"
   ]
  },
  {
   "cell_type": "code",
   "execution_count": 5,
   "id": "2be20f12",
   "metadata": {},
   "outputs": [],
   "source": [
    "# conversion from cm to kj/mol\n",
    "one = (9.44*100*3e8*6.626e-34)\n",
    "two = (9.44*100*3e8*6.626e-34)\n",
    "three = (6.19*100*3e8*6.626e-34)\n",
    "four = (60.8*100*3e8*6.626e-34)\n",
    "five = (1.998*100*3e8*6.626e-34)"
   ]
  },
  {
   "cell_type": "code",
   "execution_count": 6,
   "id": "82bb2d47",
   "metadata": {},
   "outputs": [
    {
     "name": "stdout",
     "output_type": "stream",
     "text": [
      "K rotational is 1.4306100636589842 at 800 K\n"
     ]
    }
   ],
   "source": [
    "rotational= Krot(one,two,three,four,five,6,2,2,800)\n",
    "print (\"K rotational is\", rotational, \"at 800 K\")"
   ]
  },
  {
   "cell_type": "code",
   "execution_count": 27,
   "id": "82e938d0",
   "metadata": {},
   "outputs": [],
   "source": [
    "def Kvib (NH3w1, NH3w2, NH3w3, NH3w4, N2w, H2w, T):\n",
    "    # our TA told me to multiply by the speed of light and 100\n",
    "    # he also told me to multiply all 4 frequency expressions together for NH3\n",
    "    Beta = 1/(1.38e-23*T)\n",
    "    h = 6.626e-34\n",
    "    NH3BHw1 = Beta*h*NH3w1*3e8*100\n",
    "    NH3BHw2 = Beta*h*NH3w2*3e8*100\n",
    "    NH3BHw3 = Beta*h*NH3w3*3e8*100\n",
    "    NH3BHw4 = Beta*h*NH3w4*3e8*100\n",
    "    \n",
    "    N2BHw = Beta*h*N2w*3e8*100\n",
    "    H2BHw = Beta*h*H2w*3e8*100\n",
    "    \n",
    "    Nh3f1 = (np.exp(-1*NH3BHw1/2)) / ( 1-np.exp(-1*NH3BHw1) )\n",
    "    Nh3f2 = (np.exp(-1*NH3BHw2/2)) / ( 1-np.exp(-1*NH3BHw2) )\n",
    "    Nh3f3 = (np.exp(-1*NH3BHw3/2)) / ( 1-np.exp(-1*NH3BHw3) )\n",
    "    Nh3f4 = (np.exp(-1*NH3BHw4/2)) / ( 1-np.exp(-1*NH3BHw4) )\n",
    "    NH3fexpression = Nh3f1*Nh3f2*Nh3f3*Nh3f4*Nh3f3*Nh3f4\n",
    "    N2f = (np.exp(-1*N2BHw/2)) / ( 1-np.exp(-1*N2BHw) )\n",
    "    H2f = (np.exp(-1*H2BHw/2)) / ( 1-np.exp(-1*H2BHw) )\n",
    "    return NH3fexpression/(  N2f**(1/2) * H2f**(3/2) )"
   ]
  },
  {
   "cell_type": "code",
   "execution_count": 28,
   "id": "216c6dda",
   "metadata": {},
   "outputs": [
    {
     "data": {
      "text/plain": [
       "0.0024752342268924148"
      ]
     },
     "execution_count": 28,
     "metadata": {},
     "output_type": "execute_result"
    }
   ],
   "source": [
    "vibrational  = Kvib(3337, 950, 3444, 1627, 2359, 4161, 800)\n",
    "vibrational"
   ]
  },
  {
   "cell_type": "code",
   "execution_count": 9,
   "id": "b62d68d4",
   "metadata": {},
   "outputs": [],
   "source": [
    "def Kel (NH3E, N2E, H2E, T):\n",
    "    temp = 0.0083144*T\n",
    "    NH3 = np.exp(-1*NH3E/temp)\n",
    "    N2 = np.exp(-1*N2E/temp)\n",
    "    H2 = np.exp(-1*H2E/temp)\n",
    "    return NH3/(N2**(1/2) * H2**(3/2))"
   ]
  },
  {
   "cell_type": "code",
   "execution_count": 10,
   "id": "cc37d0d7",
   "metadata": {},
   "outputs": [
    {
     "data": {
      "text/plain": [
       "412246.00152741873"
      ]
     },
     "execution_count": 10,
     "metadata": {},
     "output_type": "execute_result"
    }
   ],
   "source": [
    "electronic = Kel(-1243, -943 , -457 , 800)\n",
    "electronic"
   ]
  },
  {
   "cell_type": "code",
   "execution_count": 29,
   "id": "8a85eb58",
   "metadata": {},
   "outputs": [],
   "source": [
    "def Kproduct (T):\n",
    "    Ktranslational = Ktr(2.8e-26,4.649e-26,3.32e-27,T)\n",
    "    Krotational = Krot(one,two,three,four,five,6,2,2,T)\n",
    "    Kvibrational = Kvib(3337, 950, 3444, 1627, 2359, 4161, 800)\n",
    "    Kelectronic = Kel(-1242, -943 , -456 , T)\n",
    "    return Ktranslational * Krotational * Kvibrational * Kelectronic"
   ]
  },
  {
   "cell_type": "code",
   "execution_count": 30,
   "id": "6d3c5d91",
   "metadata": {},
   "outputs": [
    {
     "name": "stdout",
     "output_type": "stream",
     "text": [
      "Keq at 800K is 0.2669123199843449\n"
     ]
    }
   ],
   "source": [
    "# this shows that I get about 0.3 for my Keq\n",
    "Keq800 = Kproduct(800)\n",
    "print (\"Keq at 800K is\", Keq800)"
   ]
  },
  {
   "cell_type": "code",
   "execution_count": 31,
   "id": "33a5d4dd",
   "metadata": {},
   "outputs": [],
   "source": [
    "Keq = []\n",
    "for i in np.arange(800,1201,1):\n",
    "    Keq.append(Kproduct(i))\n",
    "Keq_array = np.array(Keq)"
   ]
  },
  {
   "cell_type": "code",
   "execution_count": 32,
   "id": "fc2cf91e",
   "metadata": {},
   "outputs": [],
   "source": [
    "log10Keq = np.log10(Keq_array)"
   ]
  },
  {
   "cell_type": "code",
   "execution_count": 33,
   "id": "579fa9d9",
   "metadata": {},
   "outputs": [
    {
     "data": {
      "text/plain": [
       "[0.2669123199843449,\n",
       " 0.2619585767936235,\n",
       " 0.25710798311233635,\n",
       " 0.2523581697178023,\n",
       " 0.2477068266838988,\n",
       " 0.24315170177899112,\n",
       " 0.23869059891023567,\n",
       " 0.23432137661286218,\n",
       " 0.2300419465829867,\n",
       " 0.2258502722526734,\n",
       " 0.22174436740595702,\n",
       " 0.21772229483448466,\n",
       " 0.21378216503170466,\n",
       " 0.20992213492427836,\n",
       " 0.20614040663971495,\n",
       " 0.20243522630901895,\n",
       " 0.19880488290340448,\n",
       " 0.19524770710390132,\n",
       " 0.19176207020299846,\n",
       " 0.18834638303727633,\n",
       " 0.18499909495012912,\n",
       " 0.1817186927836218,\n",
       " 0.17850369989874834,\n",
       " 0.17535267522299647,\n",
       " 0.1722642123246968,\n",
       " 0.1692369385131078,\n",
       " 0.1662695139636291,\n",
       " 0.16336063086729655,\n",
       " 0.16050901260394368,\n",
       " 0.15771341293820837,\n",
       " 0.1549726152378119,\n",
       " 0.1522854317133991,\n",
       " 0.14965070267931677,\n",
       " 0.14706729583471811,\n",
       " 0.14453410556441887,\n",
       " 0.14205005225886247,\n",
       " 0.1396140816527141,\n",
       " 0.13722516418151032,\n",
       " 0.1348822943557865,\n",
       " 0.13258449015227536,\n",
       " 0.1303307924216057,\n",
       " 0.12812026431204382,\n",
       " 0.1259519907088085,\n",
       " 0.1238250776885382,\n",
       " 0.1217386519884423,\n",
       " 0.11969186048973467,\n",
       " 0.11768386971491336,\n",
       " 0.11571386533852422,\n",
       " 0.11378105171100675,\n",
       " 0.11188465139525151,\n",
       " 0.11002390471548026,\n",
       " 0.10819806931816099,\n",
       " 0.10640641974454641,\n",
       " 0.1046482470145596,\n",
       " 0.1029228582216843,\n",
       " 0.10122957613852683,\n",
       " 0.09956773883280004,\n",
       " 0.09793669929340126,\n",
       " 0.09633582506629608,\n",
       " 0.09476449789996136,\n",
       " 0.09322211340009326,\n",
       " 0.09170808069333011,\n",
       " 0.0902218220997695,\n",
       " 0.08876277281395249,\n",
       " 0.08733038059419157,\n",
       " 0.08592410545991336,\n",
       " 0.08454341939684916,\n",
       " 0.0831878060698455,\n",
       " 0.08185676054307668,\n",
       " 0.0805497890074453,\n",
       " 0.07926640851501052,\n",
       " 0.07800614672022693,\n",
       " 0.07676854162777455,\n",
       " 0.0755531413468801,\n",
       " 0.07435950385187136,\n",
       " 0.07318719674885654,\n",
       " 0.07203579704830967,\n",
       " 0.07090489094344557,\n",
       " 0.06979407359419751,\n",
       " 0.06870294891666942,\n",
       " 0.06763112937789256,\n",
       " 0.06657823579575345,\n",
       " 0.06554389714396822,\n",
       " 0.06452775036193734,\n",
       " 0.06352944016937737,\n",
       " 0.06254861888558111,\n",
       " 0.06158494625320889,\n",
       " 0.06063808926645281,\n",
       " 0.05970772200349424,\n",
       " 0.05879352546311716,\n",
       " 0.057895187405372646,\n",
       " 0.057012402196194405,\n",
       " 0.056144870655856154,\n",
       " 0.05529229991115323,\n",
       " 0.054454403251245835,\n",
       " 0.05363089998703303,\n",
       " 0.052821515313986434,\n",
       " 0.05202598017833589,\n",
       " 0.051244031146543384,\n",
       " 0.0504754102779441,\n",
       " 0.04971986500051713,\n",
       " 0.04897714798965201,\n",
       " 0.048247017049886536,\n",
       " 0.047529234999493304,\n",
       " 0.046823569557869316,\n",
       " 0.04612979323565024,\n",
       " 0.045447683227466326,\n",
       " 0.044777021307288056,\n",
       " 0.04411759372629246,\n",
       " 0.043469191113169686,\n",
       " 0.04283160837682737,\n",
       " 0.0422046446114244,\n",
       " 0.04158810300366132,\n",
       " 0.04098179074229464,\n",
       " 0.04038551892979489,\n",
       " 0.039799102496113126,\n",
       " 0.039222360114484024,\n",
       " 0.03865511411922447,\n",
       " 0.03809719042548568,\n",
       " 0.03754841845088379,\n",
       " 0.037008631038991116,\n",
       " 0.036477664384614625,\n",
       " 0.03595535796084105,\n",
       " 0.03544155444778579,\n",
       " 0.03493609966300677,\n",
       " 0.0344388424935536,\n",
       " 0.03394963482959044,\n",
       " 0.03346833149957788,\n",
       " 0.03299479020694486,\n",
       " 0.032528871468251334,\n",
       " 0.032070438552762405,\n",
       " 0.03161935742343748,\n",
       " 0.031175496679273433,\n",
       " 0.030738727498977134,\n",
       " 0.030308923585941994,\n",
       " 0.02988596111447652,\n",
       " 0.029469718677283246,\n",
       " 0.029060077234121653,\n",
       " 0.02865692006166105,\n",
       " 0.028260132704470756,\n",
       " 0.02786960292712925,\n",
       " 0.027485220667419482,\n",
       " 0.02710687799059492,\n",
       " 0.026734469044676364,\n",
       " 0.026367890016764386,\n",
       " 0.026007039090336498,\n",
       " 0.025651816403513744,\n",
       " 0.025302124008260263,\n",
       " 0.024957865830506954,\n",
       " 0.02461894763116694,\n",
       " 0.02428527696802952,\n",
       " 0.02395676315850176,\n",
       " 0.023633317243184883,\n",
       " 0.023314851950269295,\n",
       " 0.023001281660711043,\n",
       " 0.022692522374196406,\n",
       " 0.02238849167584909,\n",
       " 0.022089108703688614,\n",
       " 0.02179429411679795,\n",
       " 0.021503970064201582,\n",
       " 0.021218060154427603,\n",
       " 0.020936489425740598,\n",
       " 0.02065918431703089,\n",
       " 0.020386072639340266,\n",
       " 0.02011708354801442,\n",
       " 0.019852147515464224,\n",
       " 0.019591196304522038,\n",
       " 0.01933416294237851,\n",
       " 0.019080981695090017,\n",
       " 0.01883158804263854,\n",
       " 0.018585918654532952,\n",
       " 0.018343911365939974,\n",
       " 0.01810550515433238,\n",
       " 0.01787064011664114,\n",
       " 0.01763925744690028,\n",
       " 0.017411299414375567,\n",
       " 0.017186709342159958,\n",
       " 0.01696543158623309,\n",
       " 0.016747411514966823,\n",
       " 0.01653259548906999,\n",
       " 0.016320930841964155,\n",
       " 0.016112365860574674,\n",
       " 0.015906849766534142,\n",
       " 0.015704332697784065,\n",
       " 0.015504765690568488,\n",
       " 0.015308100661808214,\n",
       " 0.01511429039185035,\n",
       " 0.01492328850758061,\n",
       " 0.014735049465893357,\n",
       " 0.014549528537508821,\n",
       " 0.01436668179113353,\n",
       " 0.014186466077950256,\n",
       " 0.014008839016437295,\n",
       " 0.013833758977500275,\n",
       " 0.013661185069921786,\n",
       " 0.013491077126109119,\n",
       " 0.01332339568814223,\n",
       " 0.013158101994111441,\n",
       " 0.01299515796473985,\n",
       " 0.012834526190281382,\n",
       " 0.012676169917692992,\n",
       " 0.012520053038071199,\n",
       " 0.012366140074347939,\n",
       " 0.012214396169239106,\n",
       " 0.012064787073446525,\n",
       " 0.011917279134093309,\n",
       " 0.011771839283408034,\n",
       " 0.011628435027630989,\n",
       " 0.011487034436153433,\n",
       " 0.011347606130877378,\n",
       " 0.011210119275791196,\n",
       " 0.011074543566760912,\n",
       " 0.01094084922152431,\n",
       " 0.010809006969895096,\n",
       " 0.010678988044157825,\n",
       " 0.010550764169665711,\n",
       " 0.010424307555620748,\n",
       " 0.010299590886046761,\n",
       " 0.010176587310940602,\n",
       " 0.010055270437601816,\n",
       " 0.009935614322138115,\n",
       " 0.009817593461140727,\n",
       " 0.009701182783526347,\n",
       " 0.00958635764254277,\n",
       " 0.009473093807933913,\n",
       " 0.009361367458261943,\n",
       " 0.009251155173381301,\n",
       " 0.009142433927063475,\n",
       " 0.00903518107976777,\n",
       " 0.008929374371556486,\n",
       " 0.008824991915148316,\n",
       " 0.008722012189111403,\n",
       " 0.008620414031189917,\n",
       " 0.008520176631762128,\n",
       " 0.008421279527427333,\n",
       " 0.00832370259471909,\n",
       " 0.008227426043941648,\n",
       " 0.008132430413128276,\n",
       " 0.00803869656211551,\n",
       " 0.00794620566673656,\n",
       " 0.007854939213124565,\n",
       " 0.007764878992129585,\n",
       " 0.007676007093843066,\n",
       " 0.007588305902228471,\n",
       " 0.00750175808985713,\n",
       " 0.007416346612745681,\n",
       " 0.00733205470529185,\n",
       " 0.007248865875311568,\n",
       " 0.007166763899168035,\n",
       " 0.007085732816997115,\n",
       " 0.007005756928023844,\n",
       " 0.006926820785968471,\n",
       " 0.006848909194541731,\n",
       " 0.0067720072030247585,\n",
       " 0.006696100101935569,\n",
       " 0.0066211734187761094,\n",
       " 0.00654721291386275,\n",
       " 0.0064742045762340395,\n",
       " 0.006402134619637653,\n",
       " 0.006330989478593065,\n",
       " 0.006260755804528658,\n",
       " 0.006191420461993105,\n",
       " 0.006122970524936134,\n",
       " 0.00605539327306261,\n",
       " 0.005988676188252137,\n",
       " 0.005922806951048725,\n",
       " 0.0058577734372145555,\n",
       " 0.005793563714349994,\n",
       " 0.005730166038575443,\n",
       " 0.005667568851276535,\n",
       " 0.005605760775909641,\n",
       " 0.005544730614866819,\n",
       " 0.005484467346400004,\n",
       " 0.005424960121601193,\n",
       " 0.005366198261440282,\n",
       " 0.0053081712538562515,\n",
       " 0.005250868750903727,\n",
       " 0.005194280565951412,\n",
       " 0.005138396670933023,\n",
       " 0.005083207193648226,\n",
       " 0.005028702415113183,\n",
       " 0.004974872766961474,\n",
       " 0.004921708828890916,\n",
       " 0.004869201326158223,\n",
       " 0.004817341127118876,\n",
       " 0.004766119240813555,\n",
       " 0.004715526814596186,\n",
       " 0.004665555131808092,\n",
       " 0.004616195609492381,\n",
       " 0.004567439796150751,\n",
       " 0.004519279369541387,\n",
       " 0.004471706134516308,\n",
       " 0.004424712020897952,\n",
       " 0.004378289081394197,\n",
       " 0.004332429489551767,\n",
       " 0.004287125537745551,\n",
       " 0.004242369635204624,\n",
       " 0.004198154306074039,\n",
       " 0.004154472187510901,\n",
       " 0.004111316027815363,\n",
       " 0.004068678684594063,\n",
       " 0.004026553122957822,\n",
       " 0.0039849324137503995,\n",
       " 0.00394380973180905,\n",
       " 0.003903178354256843,\n",
       " 0.0038630316588243625,\n",
       " 0.003823363122202433,\n",
       " 0.00378416631842258,\n",
       " 0.0037454349172676713,\n",
       " 0.0037071626827094983,\n",
       " 0.0036693434713752403,\n",
       " 0.0036319712310396634,\n",
       " 0.0035950399991450193,\n",
       " 0.0035585439013462116,\n",
       " 0.003522477150081936,\n",
       " 0.003486834043171382,\n",
       " 0.0034516089624342986,\n",
       " 0.003416796372336101,\n",
       " 0.003382390818656988,\n",
       " 0.003348386927183436,\n",
       " 0.0033147794024231394,\n",
       " 0.0032815630263419,\n",
       " 0.003248732657123072,\n",
       " 0.003216283227947656,\n",
       " 0.0031842097457968747,\n",
       " 0.003152507290274018,\n",
       " 0.0031211710124480273,\n",
       " 0.00309019613371567,\n",
       " 0.003059577944684828,\n",
       " 0.0030293118040758647,\n",
       " 0.0029993931376427353,\n",
       " 0.0029698174371117067,\n",
       " 0.0029405802591394464,\n",
       " 0.002911677224287809,\n",
       " 0.0028831040160172384,\n",
       " 0.002854856379696344,\n",
       " 0.0028269301216295485,\n",
       " 0.0027993211081000758,\n",
       " 0.002772025264430202,\n",
       " 0.0027450385740571516,\n",
       " 0.0027183570776242584,\n",
       " 0.0026919768720887,\n",
       " 0.0026658941098427267,\n",
       " 0.002640104997851221,\n",
       " 0.0026146057968031997,\n",
       " 0.0025893928202773632,\n",
       " 0.002564462433922148,\n",
       " 0.0025398110546496462,\n",
       " 0.0025154351498426065,\n",
       " 0.0024913312365749483,\n",
       " 0.0024674958808458014,\n",
       " 0.002443925696825378,\n",
       " 0.002420617346114742,\n",
       " 0.002397567537016493,\n",
       " 0.002374773023818857,\n",
       " 0.0023522306060910327,\n",
       " 0.0023299371279903356,\n",
       " 0.002307889477581179,\n",
       " 0.002286084586164734,\n",
       " 0.002264519427620406,\n",
       " 0.002243191017757671,\n",
       " 0.0022220964136789576,\n",
       " 0.002201232713152711,\n",
       " 0.0021805970539970788,\n",
       " 0.002160186613473676,\n",
       " 0.002139998607691262,\n",
       " 0.0021200302910192193,\n",
       " 0.0021002789555105484,\n",
       " 0.0020807419303345677,\n",
       " 0.0020614165812187254,\n",
       " 0.0020423003098994537,\n",
       " 0.002023390553582117,\n",
       " 0.002004684784409699,\n",
       " 0.0019861805089401575,\n",
       " 0.001967875267632331,\n",
       " 0.0019497666343398987,\n",
       " 0.0019318522158140144,\n",
       " 0.001914129651213582,\n",
       " 0.001896596611623667,\n",
       " 0.0018792507995815447,\n",
       " 0.001862089948610558,\n",
       " 0.001845111822761369,\n",
       " 0.0018283142161605078,\n",
       " 0.0018116949525664422,\n",
       " 0.0017952518849324492,\n",
       " 0.0017789828949767257,\n",
       " 0.0017628858927593645,\n",
       " 0.0017469588162657462,\n",
       " 0.0017311996309971886,\n",
       " 0.0017156063295676541,\n",
       " 0.0017001769313069453,\n",
       " 0.0016849094818704026,\n",
       " 0.0016698020528545388,\n",
       " 0.001654852741419094,\n",
       " 0.0016400596699147317,\n",
       " 0.0016254209855169073,\n",
       " 0.0016109348598652247,\n",
       " 0.0015965994887088958,\n",
       " 0.0015824130915573899,\n",
       " 0.0015683739113368535,\n",
       " 0.0015544802140516772]"
      ]
     },
     "execution_count": 33,
     "metadata": {},
     "output_type": "execute_result"
    }
   ],
   "source": [
    "Keq"
   ]
  },
  {
   "cell_type": "code",
   "execution_count": 34,
   "id": "3560cfa1",
   "metadata": {},
   "outputs": [
    {
     "data": {
      "text/plain": [
       "[<matplotlib.lines.Line2D at 0x17c237deb20>]"
      ]
     },
     "execution_count": 34,
     "metadata": {},
     "output_type": "execute_result"
    },
    {
     "data": {
      "image/png": "[encoded data removed]",
      "text/plain": [
       "<Figure size 432x288 with 1 Axes>"
      ]
     },
     "metadata": {
      "needs_background": "light"
     },
     "output_type": "display_data"
    }
   ],
   "source": [
    "plt.plot(np.arange(800,1201,1),log10Keq)"
   ]
  },
  {
   "cell_type": "code",
   "execution_count": null,
   "id": "85959b6b",
   "metadata": {},
   "outputs": [],
   "source": [
    "# number 1 part d"
   ]
  },
  {
   "cell_type": "code",
   "execution_count": 20,
   "id": "7f1fde28",
   "metadata": {},
   "outputs": [],
   "source": [
    "def Haber (T):\n",
    "    Haber = 10**(2.1 + (2098/T) - (2.5088*np.log10(T)) - 1.006e-4*T + 1.86e-7*(T**2) + np.log10(0.0821*T))\n",
    "    return Haber\n",
    "\n",
    "def HaberLog(T):\n",
    "    Haber = 2.1 + (2098/T) - (2.5088*np.log10(T)) - 1.006e-4*T + 1.86e-7*(T**2) + np.log10(0.0821*T)\n",
    "    return Haber"
   ]
  },
  {
   "cell_type": "code",
   "execution_count": 139,
   "id": "3c5b97d1",
   "metadata": {},
   "outputs": [
    {
     "name": "stdout",
     "output_type": "stream",
     "text": [
      "Harber Keq at 800K is 0.1973426631556511\n"
     ]
    }
   ],
   "source": [
    "# this shows that my Haber Keq is roughly 0.2\n",
    "Haber_test = Haber(800)\n",
    "print (\"Harber Keq at 800K is\", Haber_test)"
   ]
  },
  {
   "cell_type": "code",
   "execution_count": 22,
   "id": "6e97a0b6",
   "metadata": {},
   "outputs": [],
   "source": [
    "HaberKeq = []\n",
    "for i in np.arange(800,1201,1):\n",
    "    HaberKeq.append(HaberLog(i))\n",
    "Haber_array = np.array(HaberKeq)"
   ]
  },
  {
   "cell_type": "code",
   "execution_count": 23,
   "id": "830f99f1",
   "metadata": {
    "scrolled": true
   },
   "outputs": [
    {
     "data": {
      "text/plain": [
       "[<matplotlib.lines.Line2D at 0x17c2376d4f0>]"
      ]
     },
     "execution_count": 23,
     "metadata": {},
     "output_type": "execute_result"
    },
    {
     "data": {
      "image/png": "[encoded data removed]",
      "text/plain": [
       "<Figure size 432x288 with 1 Axes>"
      ]
     },
     "metadata": {
      "needs_background": "light"
     },
     "output_type": "display_data"
    }
   ],
   "source": [
    "plt.plot(np.arange(800,1201,1),Haber_array)"
   ]
  },
  {
   "cell_type": "code",
   "execution_count": 1,
   "id": "232368b6",
   "metadata": {},
   "outputs": [],
   "source": [
    "# number 2"
   ]
  },
  {
   "cell_type": "code",
   "execution_count": null,
   "id": "35a7c737",
   "metadata": {},
   "outputs": [],
   "source": [
    "# room temp part a"
   ]
  },
  {
   "cell_type": "code",
   "execution_count": 140,
   "id": "0aee3bd1",
   "metadata": {},
   "outputs": [],
   "source": [
    "pdb = PDBFile('waterbox.pdb')\n",
    "forcefield = ForceField('tip3p.xml')"
   ]
  },
  {
   "cell_type": "code",
   "execution_count": 141,
   "id": "6bdf1621",
   "metadata": {},
   "outputs": [
    {
     "data": {
      "text/plain": [
       "4"
      ]
     },
     "execution_count": 141,
     "metadata": {},
     "output_type": "execute_result"
    }
   ],
   "source": [
    "system = forcefield.createSystem(pdb.topology, nonbondedMethod=PME,\n",
    "                                nonbondedCutoff=0.9*nanometer, constraints=HBonds,rigidWater=True)\n",
    "system.addForce(MonteCarloBarostat(1.01325*bar, 300*kelvin))"
   ]
  },
  {
   "cell_type": "code",
   "execution_count": 142,
   "id": "b85af6d1",
   "metadata": {},
   "outputs": [],
   "source": [
    "integrator = LangevinIntegrator(300*kelvin, 1/picosecond, 0.002*picoseconds)"
   ]
  },
  {
   "cell_type": "code",
   "execution_count": null,
   "id": "95d3b12f",
   "metadata": {},
   "outputs": [],
   "source": [
    "simulation = Simulation(pdb.topology, system, integrator)"
   ]
  },
  {
   "cell_type": "code",
   "execution_count": null,
   "id": "ae1d09f9",
   "metadata": {},
   "outputs": [],
   "source": [
    "simulation.context.setPositions(pdb.positions)"
   ]
  },
  {
   "cell_type": "code",
   "execution_count": null,
   "id": "3477de12",
   "metadata": {
    "scrolled": true
   },
   "outputs": [],
   "source": [
    "dcdReporter = DCDReporter(\"P6_trajectory300.dcd\",10)\n",
    "\n",
    "dataReporter = StateDataReporter(\"P6_log.txt\",1000,totalSteps=50000, step=True, \n",
    "                                 speed=True, progress=True, potentialEnergy=True, temperature=True,separator=\"t\")\n",
    "\n",
    "simulation.reporters.append(dcdReporter)\n",
    "simulation.reporters.append(dataReporter)\n",
    "\n",
    "simulation.step(50000)"
   ]
  },
  {
   "cell_type": "code",
   "execution_count": 44,
   "id": "83bd46f7",
   "metadata": {},
   "outputs": [],
   "source": [
    "#370 part c"
   ]
  },
  {
   "cell_type": "code",
   "execution_count": 45,
   "id": "75444511",
   "metadata": {},
   "outputs": [
    {
     "data": {
      "text/plain": [
       "4"
      ]
     },
     "execution_count": 45,
     "metadata": {},
     "output_type": "execute_result"
    }
   ],
   "source": [
    "system = forcefield.createSystem(pdb.topology, nonbondedMethod=PME,\n",
    "                                nonbondedCutoff=0.9*nanometer, constraints=HBonds,rigidWater=True)\n",
    "system.addForce(MonteCarloBarostat(1.01325*bar, 370*kelvin))"
   ]
  },
  {
   "cell_type": "code",
   "execution_count": 46,
   "id": "d83a7905",
   "metadata": {},
   "outputs": [],
   "source": [
    "integrator = LangevinIntegrator(370*kelvin, 1/picosecond, 0.002*picoseconds)"
   ]
  },
  {
   "cell_type": "code",
   "execution_count": 47,
   "id": "2da7d7aa",
   "metadata": {},
   "outputs": [],
   "source": [
    "simulation = Simulation(pdb.topology, system, integrator)"
   ]
  },
  {
   "cell_type": "code",
   "execution_count": 48,
   "id": "31f74a84",
   "metadata": {},
   "outputs": [],
   "source": [
    "simulation.context.setPositions(pdb.positions)"
   ]
  },
  {
   "cell_type": "code",
   "execution_count": 49,
   "id": "702dc63c",
   "metadata": {},
   "outputs": [],
   "source": [
    "dcdReporter = DCDReporter(\"P6_trajectory370.dcd\",10)\n",
    "\n",
    "dataReporter = StateDataReporter(\"P6_log.txt\",1000,totalSteps=50000, step=True, \n",
    "                                 speed=True, progress=True, potentialEnergy=True, temperature=True,separator=\"t\")\n",
    "\n",
    "simulation.reporters.append(dcdReporter)\n",
    "simulation.reporters.append(dataReporter)\n",
    "\n",
    "simulation.step(50000)"
   ]
  },
  {
   "cell_type": "code",
   "execution_count": null,
   "id": "a65ace8b",
   "metadata": {},
   "outputs": [],
   "source": [
    "# graph for part d"
   ]
  },
  {
   "cell_type": "code",
   "execution_count": 8,
   "id": "673a814f",
   "metadata": {},
   "outputs": [],
   "source": [
    "bestfit = np.loadtxt( 'oo.als_bestfit.dat' , unpack=True)\n",
    "bestfit=np.array(bestfit)"
   ]
  },
  {
   "cell_type": "code",
   "execution_count": 9,
   "id": "5b55c753",
   "metadata": {},
   "outputs": [
    {
     "data": {
      "image/png": "[encoded data removed]",
      "text/plain": [
       "<Figure size 432x288 with 1 Axes>"
      ]
     },
     "metadata": {
      "needs_background": "light"
     },
     "output_type": "display_data"
    }
   ],
   "source": [
    "plt.plot(bestfit[0], bestfit[1])\n",
    "\n",
    "plt.show()\n"
   ]
  },
  {
   "cell_type": "code",
   "execution_count": null,
   "id": "a4e77bc9",
   "metadata": {},
   "outputs": [],
   "source": [
    "# new forcefield part e"
   ]
  },
  {
   "cell_type": "code",
   "execution_count": 16,
   "id": "fb94cfdb",
   "metadata": {},
   "outputs": [],
   "source": [
    "PE_forcefield = ForceField('tip3pfb.xml')"
   ]
  },
  {
   "cell_type": "code",
   "execution_count": 17,
   "id": "5a49fa8e",
   "metadata": {},
   "outputs": [
    {
     "data": {
      "text/plain": [
       "4"
      ]
     },
     "execution_count": 17,
     "metadata": {},
     "output_type": "execute_result"
    }
   ],
   "source": [
    "system = PE_forcefield.createSystem(pdb.topology, nonbondedMethod=PME,\n",
    "                                nonbondedCutoff=0.9*nanometer, constraints=HBonds,rigidWater=True)\n",
    "system.addForce(MonteCarloBarostat(1.01325*bar, 300*kelvin))"
   ]
  },
  {
   "cell_type": "code",
   "execution_count": 18,
   "id": "11ceb11d",
   "metadata": {},
   "outputs": [],
   "source": [
    "integrator = LangevinIntegrator(300*kelvin, 1/picosecond, 0.002*picoseconds)"
   ]
  },
  {
   "cell_type": "code",
   "execution_count": 19,
   "id": "96aed526",
   "metadata": {},
   "outputs": [],
   "source": [
    "simulation = Simulation(pdb.topology, system, integrator)"
   ]
  },
  {
   "cell_type": "code",
   "execution_count": 20,
   "id": "580a1434",
   "metadata": {},
   "outputs": [],
   "source": [
    "simulation.context.setPositions(pdb.positions)"
   ]
  },
  {
   "cell_type": "code",
   "execution_count": 21,
   "id": "812c5796",
   "metadata": {},
   "outputs": [],
   "source": [
    "dcdReporter = DCDReporter(\"parte_trajectory300.dcd\",10)\n",
    "\n",
    "dataReporter = StateDataReporter(\"P6_log.txt\",1000,totalSteps=50000, step=True, \n",
    "                                 speed=True, progress=True, potentialEnergy=True, temperature=True,separator=\"t\")\n",
    "\n",
    "simulation.reporters.append(dcdReporter)\n",
    "simulation.reporters.append(dataReporter)\n",
    "\n",
    "simulation.step(50000)"
   ]
  },
  {
   "cell_type": "code",
   "execution_count": null,
   "id": "423e8631",
   "metadata": {},
   "outputs": [],
   "source": [
    "# problem 3 starting state"
   ]
  },
  {
   "cell_type": "code",
   "execution_count": 35,
   "id": "9adbc4fe",
   "metadata": {},
   "outputs": [],
   "source": [
    "pdb = PDBFile('water512-na.pdb')\n",
    "# replace forcefield with the initial state\n",
    "forcefield = ForceField('Naplusinitial.xml','tip3pfb.xml')"
   ]
  },
  {
   "cell_type": "code",
   "execution_count": 36,
   "id": "f5f0c483",
   "metadata": {},
   "outputs": [],
   "source": [
    "system = forcefield.createSystem(pdb.topology, nonbondedMethod=PME,\n",
    "                                nonbondedCutoff=0.9*nanometer, constraints=HBonds,rigidWater=True)"
   ]
  },
  {
   "cell_type": "code",
   "execution_count": 37,
   "id": "cc116121",
   "metadata": {},
   "outputs": [],
   "source": [
    "integrator = LangevinIntegrator(300*kelvin, 1/picosecond, 0.002*picoseconds)"
   ]
  },
  {
   "cell_type": "code",
   "execution_count": 38,
   "id": "f94dad41",
   "metadata": {},
   "outputs": [],
   "source": [
    "initial_simulation = Simulation(pdb.topology, system, integrator)"
   ]
  },
  {
   "cell_type": "code",
   "execution_count": 39,
   "id": "4690452c",
   "metadata": {},
   "outputs": [],
   "source": [
    "initial_simulation.context.setPositions(pdb.positions)"
   ]
  },
  {
   "cell_type": "code",
   "execution_count": 40,
   "id": "412388d4",
   "metadata": {},
   "outputs": [],
   "source": [
    "dcdReporter = DCDReporter(\"initial.dcd\",10)\n",
    "\n",
    "dataReporter = StateDataReporter(\"P6_log.txt\",1000,totalSteps=100000, step=True, \n",
    "                                 speed=True, progress=True, potentialEnergy=True, temperature=True,separator=\"t\")\n",
    "\n",
    "initial_simulation.reporters.append(dcdReporter)\n",
    "initial_simulation.reporters.append(dataReporter)\n",
    "\n",
    "initial_simulation.step(100000)"
   ]
  },
  {
   "cell_type": "code",
   "execution_count": 42,
   "id": "bc6e35c0",
   "metadata": {},
   "outputs": [],
   "source": [
    "initial_state = [] \n",
    "for i in range(5000): \n",
    "    initial_simulation.step(50) \n",
    "    initial_state.append(initial_simulation.context.getState(getPositions=True).getPositions())"
   ]
  },
  {
   "cell_type": "code",
   "execution_count": null,
   "id": "094ed7ec",
   "metadata": {},
   "outputs": [],
   "source": [
    "# middle state "
   ]
  },
  {
   "cell_type": "code",
   "execution_count": 43,
   "id": "9911e820",
   "metadata": {},
   "outputs": [],
   "source": [
    "pdb = PDBFile('water512-na.pdb')\n",
    "# replace forcefield with the initial state\n",
    "forcefield_middle = ForceField('Naplusmiddle.xml','tip3pfb.xml')"
   ]
  },
  {
   "cell_type": "code",
   "execution_count": 44,
   "id": "7caebcf0",
   "metadata": {},
   "outputs": [],
   "source": [
    "system = forcefield_middle.createSystem(pdb.topology, nonbondedMethod=PME,\n",
    "                                nonbondedCutoff=0.9*nanometer, constraints=HBonds,rigidWater=True)"
   ]
  },
  {
   "cell_type": "code",
   "execution_count": 45,
   "id": "3c824d79",
   "metadata": {},
   "outputs": [],
   "source": [
    "integrator = LangevinIntegrator(300*kelvin, 1/picosecond, 0.002*picoseconds)"
   ]
  },
  {
   "cell_type": "code",
   "execution_count": 46,
   "id": "1f586d3c",
   "metadata": {},
   "outputs": [],
   "source": [
    "middle_simulation = Simulation(pdb.topology, system, integrator)"
   ]
  },
  {
   "cell_type": "code",
   "execution_count": 47,
   "id": "15e20112",
   "metadata": {},
   "outputs": [],
   "source": [
    "middle_simulation.context.setPositions(pdb.positions)"
   ]
  },
  {
   "cell_type": "code",
   "execution_count": 48,
   "id": "b607072d",
   "metadata": {},
   "outputs": [],
   "source": [
    "dcdReporter = DCDReporter(\"middlestate.dcd\",10)\n",
    "\n",
    "dataReporter = StateDataReporter(\"P6_log.txt\",1000,totalSteps=100000, step=True, \n",
    "                                 speed=True, progress=True, potentialEnergy=True, temperature=True,separator=\"t\")\n",
    "\n",
    "middle_simulation.reporters.append(dcdReporter)\n",
    "middle_simulation.reporters.append(dataReporter)\n",
    "\n",
    "middle_simulation.step(100000)"
   ]
  },
  {
   "cell_type": "code",
   "execution_count": 49,
   "id": "f092b0fb",
   "metadata": {},
   "outputs": [],
   "source": [
    "middle_state = [] \n",
    "for i in range(5000): \n",
    "    middle_simulation.step(50) \n",
    "    middle_state.append(middle_simulation.context.getState(getPositions=True).getPositions()) "
   ]
  },
  {
   "cell_type": "code",
   "execution_count": 60,
   "id": "32e5ba4b",
   "metadata": {},
   "outputs": [],
   "source": [
    "# 3D\n",
    "# compute energy gap for each simulation saved position \n",
    "middle_start = []\n",
    "for i in range(5000):\n",
    "    initial_simulation.context.setPositions(initial_state[i])\n",
    "    initial_energy = initial_simulation.context.getState(getEnergy=True).getPotentialEnergy()/(kilojoule/mole)\n",
    "    middle_simulation.context.setPositions(initial_state[i])\n",
    "    middle_energy = middle_simulation.context.getState(getEnergy=True).getPotentialEnergy()/(kilojoule/mole)\n",
    "    energy_gap = middle_energy - initial_energy\n",
    "    middle_start.append(energy_gap)"
   ]
  },
  {
   "cell_type": "code",
   "execution_count": 18,
   "id": "f0cda15d",
   "metadata": {},
   "outputs": [
    {
     "ename": "NameError",
     "evalue": "name 'middle_start' is not defined",
     "output_type": "error",
     "traceback": [
      "\u001b[1;31m---------------------------------------------------------------------------\u001b[0m",
      "\u001b[1;31mNameError\u001b[0m                                 Traceback (most recent call last)",
      "\u001b[1;32m<ipython-input-18-ea3ed1308446>\u001b[0m in \u001b[0;36m<module>\u001b[1;34m\u001b[0m\n\u001b[1;32m----> 1\u001b[1;33m \u001b[0mmiddle_start\u001b[0m \u001b[1;33m=\u001b[0m \u001b[0mnp\u001b[0m\u001b[1;33m.\u001b[0m\u001b[0marray\u001b[0m\u001b[1;33m(\u001b[0m\u001b[0mmiddle_start\u001b[0m\u001b[1;33m)\u001b[0m\u001b[1;33m\u001b[0m\u001b[1;33m\u001b[0m\u001b[0m\n\u001b[0m\u001b[0;32m      2\u001b[0m \u001b[0mprint\u001b[0m\u001b[1;33m(\u001b[0m\u001b[0mmiddle_start\u001b[0m\u001b[1;33m)\u001b[0m\u001b[1;33m\u001b[0m\u001b[1;33m\u001b[0m\u001b[0m\n",
      "\u001b[1;31mNameError\u001b[0m: name 'middle_start' is not defined"
     ]
    }
   ],
   "source": [
    "middle_start = np.array(middle_start)\n",
    "print(middle_start)"
   ]
  },
  {
   "cell_type": "code",
   "execution_count": 130,
   "id": "9397f614",
   "metadata": {},
   "outputs": [
    {
     "data": {
      "text/plain": [
       "0.043757749953929184"
      ]
     },
     "execution_count": 130,
     "metadata": {},
     "output_type": "execute_result"
    }
   ],
   "source": [
    "# this is the delta where the initial state is used <>A\n",
    "# 3E\n",
    "kb = 0.00831\n",
    "T = 300\n",
    "beta = 1/(kb*T)\n",
    "exponential = np.exp(-1*beta*middle_start)\n",
    "average = np.average(exponential)\n",
    "DeltaA = -1*kb*np.log(average)\n",
    "DeltaA"
   ]
  },
  {
   "cell_type": "code",
   "execution_count": 17,
   "id": "0ba7b225",
   "metadata": {},
   "outputs": [
    {
     "ename": "NameError",
     "evalue": "name 'middle_start' is not defined",
     "output_type": "error",
     "traceback": [
      "\u001b[1;31m---------------------------------------------------------------------------\u001b[0m",
      "\u001b[1;31mNameError\u001b[0m                                 Traceback (most recent call last)",
      "\u001b[1;32m<ipython-input-17-c3847eb40793>\u001b[0m in \u001b[0;36m<module>\u001b[1;34m\u001b[0m\n\u001b[0;32m      1\u001b[0m \u001b[1;31m# this is the top 10\u001b[0m\u001b[1;33m\u001b[0m\u001b[1;33m\u001b[0m\u001b[1;33m\u001b[0m\u001b[0m\n\u001b[1;32m----> 2\u001b[1;33m \u001b[0mtop10e\u001b[0m \u001b[1;33m=\u001b[0m \u001b[0mnp\u001b[0m\u001b[1;33m.\u001b[0m\u001b[0margsort\u001b[0m\u001b[1;33m(\u001b[0m\u001b[0mmiddle_start\u001b[0m\u001b[1;33m)\u001b[0m\u001b[1;33m[\u001b[0m\u001b[0mlen\u001b[0m\u001b[1;33m(\u001b[0m\u001b[0mmiddle_start\u001b[0m\u001b[1;33m)\u001b[0m\u001b[1;33m-\u001b[0m\u001b[1;36m10\u001b[0m\u001b[1;33m:\u001b[0m\u001b[1;33m:\u001b[0m\u001b[1;33m]\u001b[0m\u001b[1;33m\u001b[0m\u001b[1;33m\u001b[0m\u001b[0m\n\u001b[0m",
      "\u001b[1;31mNameError\u001b[0m: name 'middle_start' is not defined"
     ]
    }
   ],
   "source": [
    "# this is the top 10 \n",
    "top10e = np.argsort(middle_start)[len(middle_start)-10::]\n",
    "top10e"
   ]
  },
  {
   "cell_type": "code",
   "execution_count": 69,
   "id": "1a4e60ff",
   "metadata": {},
   "outputs": [],
   "source": [
    "middle_startB = []\n",
    "for i in range(5000):\n",
    "    initial_simulation.context.setPositions(middle_state[i])\n",
    "    initial_energyB = initial_simulation.context.getState(getEnergy=True).getPotentialEnergy()/(kilojoule/mole)\n",
    "    middle_simulation.context.setPositions(middle_state[i])\n",
    "    middle_energyB = middle_simulation.context.getState(getEnergy=True).getPotentialEnergy()/(kilojoule/mole)\n",
    "    energy_gap = middle_energyB - initial_energyB\n",
    "    middle_startB.append(energy_gap)"
   ]
  },
  {
   "cell_type": "code",
   "execution_count": 74,
   "id": "323d8765",
   "metadata": {},
   "outputs": [
    {
     "data": {
      "text/plain": [
       "array([ 3.12427149,  6.35083399,  3.71020899, ..., -0.67260351,\n",
       "       -1.11791601,  2.31958399])"
      ]
     },
     "execution_count": 74,
     "metadata": {},
     "output_type": "execute_result"
    }
   ],
   "source": [
    "middle_startB = np.array(middle_startB)\n",
    "middle_startB"
   ]
  },
  {
   "cell_type": "code",
   "execution_count": 131,
   "id": "578911bd",
   "metadata": {},
   "outputs": [
    {
     "data": {
      "text/plain": [
       "0.003105600963268707"
      ]
     },
     "execution_count": 131,
     "metadata": {},
     "output_type": "execute_result"
    }
   ],
   "source": [
    "# this is the delta that is when middle state is used <>B\n",
    "\n",
    "exponentialB = np.exp(-1*beta*middle_startB)\n",
    "averageB = np.average(exponentialB)\n",
    "DeltaB = -1*kb*np.log(averageB)\n",
    "DeltaB"
   ]
  },
  {
   "cell_type": "code",
   "execution_count": 19,
   "id": "a93caa2d",
   "metadata": {},
   "outputs": [
    {
     "ename": "NameError",
     "evalue": "name 'initial_simulation' is not defined",
     "output_type": "error",
     "traceback": [
      "\u001b[1;31m---------------------------------------------------------------------------\u001b[0m",
      "\u001b[1;31mNameError\u001b[0m                                 Traceback (most recent call last)",
      "\u001b[1;32m<ipython-input-19-197d3fb1c71e>\u001b[0m in \u001b[0;36m<module>\u001b[1;34m\u001b[0m\n\u001b[0;32m      1\u001b[0m \u001b[0mtrial1\u001b[0m \u001b[1;33m=\u001b[0m \u001b[1;33m[\u001b[0m\u001b[1;33m]\u001b[0m\u001b[1;33m\u001b[0m\u001b[1;33m\u001b[0m\u001b[0m\n\u001b[0;32m      2\u001b[0m \u001b[1;32mfor\u001b[0m \u001b[0mi\u001b[0m \u001b[1;32min\u001b[0m \u001b[0mrange\u001b[0m\u001b[1;33m(\u001b[0m\u001b[1;36m5000\u001b[0m\u001b[1;33m)\u001b[0m\u001b[1;33m:\u001b[0m\u001b[1;33m\u001b[0m\u001b[1;33m\u001b[0m\u001b[0m\n\u001b[1;32m----> 3\u001b[1;33m     \u001b[0minitial_simulation\u001b[0m\u001b[1;33m.\u001b[0m\u001b[0mcontext\u001b[0m\u001b[1;33m.\u001b[0m\u001b[0msetPositions\u001b[0m\u001b[1;33m(\u001b[0m\u001b[0minitial_state\u001b[0m\u001b[1;33m[\u001b[0m\u001b[0mi\u001b[0m\u001b[1;33m]\u001b[0m\u001b[1;33m)\u001b[0m\u001b[1;33m\u001b[0m\u001b[1;33m\u001b[0m\u001b[0m\n\u001b[0m\u001b[0;32m      4\u001b[0m     \u001b[0minitial_energy\u001b[0m \u001b[1;33m=\u001b[0m \u001b[0minitial_simulation\u001b[0m\u001b[1;33m.\u001b[0m\u001b[0mcontext\u001b[0m\u001b[1;33m.\u001b[0m\u001b[0mgetState\u001b[0m\u001b[1;33m(\u001b[0m\u001b[0mgetEnergy\u001b[0m\u001b[1;33m=\u001b[0m\u001b[1;32mTrue\u001b[0m\u001b[1;33m)\u001b[0m\u001b[1;33m.\u001b[0m\u001b[0mgetPotentialEnergy\u001b[0m\u001b[1;33m(\u001b[0m\u001b[1;33m)\u001b[0m\u001b[1;33m/\u001b[0m\u001b[1;33m(\u001b[0m\u001b[0mkilojoule\u001b[0m\u001b[1;33m/\u001b[0m\u001b[0mmole\u001b[0m\u001b[1;33m)\u001b[0m\u001b[1;33m\u001b[0m\u001b[1;33m\u001b[0m\u001b[0m\n\u001b[0;32m      5\u001b[0m     \u001b[0mmiddle_simulation\u001b[0m\u001b[1;33m.\u001b[0m\u001b[0mcontext\u001b[0m\u001b[1;33m.\u001b[0m\u001b[0msetPositions\u001b[0m\u001b[1;33m(\u001b[0m\u001b[0minitial_state\u001b[0m\u001b[1;33m[\u001b[0m\u001b[0mi\u001b[0m\u001b[1;33m]\u001b[0m\u001b[1;33m)\u001b[0m\u001b[1;33m\u001b[0m\u001b[1;33m\u001b[0m\u001b[0m\n",
      "\u001b[1;31mNameError\u001b[0m: name 'initial_simulation' is not defined"
     ]
    }
   ],
   "source": [
    "trial1 = []\n",
    "for i in range(5000):\n",
    "    initial_simulation.context.setPositions(initial_state[i])\n",
    "    initial_energy = initial_simulation.context.getState(getEnergy=True).getPotentialEnergy()/(kilojoule/mole)\n",
    "    middle_simulation.context.setPositions(initial_state[i])\n",
    "    middle_energy = middle_simulation.context.getState(getEnergy=True).getPotentialEnergy()/(kilojoule/mole)\n",
    "    energy_gap = middle_energy - initial_energy\n",
    "    trial1.append(energy_gap)\n",
    "trial1 = np.array(trial1)\n",
    "\n",
    "exponential1 = np.exp(-1*beta*trial1)\n",
    "average1 = np.average(exponential1)\n",
    "Delta1 = -1*kb*np.log(average1)\n",
    "Delta1"
   ]
  },
  {
   "cell_type": "code",
   "execution_count": null,
   "id": "45612aea",
   "metadata": {},
   "outputs": [],
   "source": [
    "trial2 = []\n",
    "for i in range(5000):\n",
    "    initial_simulation.context.setPositions(initial_state[i])\n",
    "    initial_energy = initial_simulation.context.getState(getEnergy=True).getPotentialEnergy()/(kilojoule/mole)\n",
    "    middle_simulation.context.setPositions(initial_state[i])\n",
    "    middle_energy = middle_simulation.context.getState(getEnergy=True).getPotentialEnergy()/(kilojoule/mole)\n",
    "    energy_gap = middle_energy - initial_energy\n",
    "    trial2.append(energy_gap)\n",
    "trial2 = np.array(trial2)\n",
    "\n",
    "exponential2 = np.exp(-1*beta*trial2)\n",
    "average2 = np.average(exponential2)\n",
    "Delta2 = -1*kb*np.log(average2)\n",
    "Delta2"
   ]
  },
  {
   "cell_type": "code",
   "execution_count": null,
   "id": "8c13119c",
   "metadata": {},
   "outputs": [],
   "source": [
    "trial3 = []\n",
    "for i in range(5000):\n",
    "    initial_simulation.context.setPositions(initial_state[i])\n",
    "    initial_energy = initial_simulation.context.getState(getEnergy=True).getPotentialEnergy()/(kilojoule/mole)\n",
    "    middle_simulation.context.setPositions(initial_state[i])\n",
    "    middle_energy = middle_simulation.context.getState(getEnergy=True).getPotentialEnergy()/(kilojoule/mole)\n",
    "    energy_gap = middle_energy - initial_energy\n",
    "    trial3.append(energy_gap)\n",
    "trial3 = np.array(trial3)\n",
    "\n",
    "exponential3 = np.exp(-1*beta*trial3)\n",
    "average3 = np.average(exponential3)\n",
    "Delta3 = -1*kb*np.log(average3)\n",
    "Delta3"
   ]
  },
  {
   "cell_type": "code",
   "execution_count": null,
   "id": "baedded6",
   "metadata": {},
   "outputs": [],
   "source": [
    "trial4 = []\n",
    "for i in range(5000):\n",
    "    initial_simulation.context.setPositions(initial_state[i])\n",
    "    initial_energy = initial_simulation.context.getState(getEnergy=True).getPotentialEnergy()/(kilojoule/mole)\n",
    "    middle_simulation.context.setPositions(initial_state[i])\n",
    "    middle_energy = middle_simulation.context.getState(getEnergy=True).getPotentialEnergy()/(kilojoule/mole)\n",
    "    energy_gap = middle_energy - initial_energy\n",
    "    trial4.append(energy_gap)\n",
    "trial4 = np.array(trial4)\n",
    "\n",
    "exponential4 = np.exp(-1*beta*trial4)\n",
    "average4 = np.average(exponential4)\n",
    "Delta4 = -1*kb*np.log(average4)\n",
    "Delta4"
   ]
  },
  {
   "cell_type": "code",
   "execution_count": null,
   "id": "04e43a5e",
   "metadata": {},
   "outputs": [],
   "source": [
    "trial5 = []\n",
    "for i in range(5000):\n",
    "    initial_simulation.context.setPositions(initial_state[i])\n",
    "    initial_energy = initial_simulation.context.getState(getEnergy=True).getPotentialEnergy()/(kilojoule/mole)\n",
    "    middle_simulation.context.setPositions(initial_state[i])\n",
    "    middle_energy = middle_simulation.context.getState(getEnergy=True).getPotentialEnergy()/(kilojoule/mole)\n",
    "    energy_gap = middle_energy - initial_energy\n",
    "    trial5.append(energy_gap)\n",
    "trial5 = np.array(trial5)\n",
    "\n",
    "exponential5 = np.exp(-1*beta*trial5)\n",
    "average5 = np.average(exponential5)\n",
    "Delta5 = -1*kb*np.log(average5)\n",
    "Delta5"
   ]
  },
  {
   "cell_type": "code",
   "execution_count": null,
   "id": "f165bde5",
   "metadata": {},
   "outputs": [],
   "source": [
    "# standard error \n",
    "error = sem([Delta1,Delta2,Delta3,Delta4,Delta5])\n",
    "error"
   ]
  },
  {
   "cell_type": "code",
   "execution_count": null,
   "id": "bb12381d",
   "metadata": {},
   "outputs": [],
   "source": [
    "# final state "
   ]
  },
  {
   "cell_type": "code",
   "execution_count": 77,
   "id": "b4698b44",
   "metadata": {},
   "outputs": [],
   "source": [
    "pdb = PDBFile('water512-na.pdb')\n",
    "\n",
    "forcefield_final = ForceField('tip3pfb.xml','naplus.xml')\n"
   ]
  },
  {
   "cell_type": "code",
   "execution_count": 78,
   "id": "26ff8959",
   "metadata": {},
   "outputs": [],
   "source": [
    "system = forcefield_final.createSystem(pdb.topology, nonbondedMethod=PME,\n",
    "                                nonbondedCutoff=0.9*nanometer, constraints=HBonds,rigidWater=True)"
   ]
  },
  {
   "cell_type": "code",
   "execution_count": 79,
   "id": "f4bd60bb",
   "metadata": {},
   "outputs": [],
   "source": [
    "integrator = LangevinIntegrator(300*kelvin, 1/picosecond, 0.002*picoseconds)"
   ]
  },
  {
   "cell_type": "code",
   "execution_count": 80,
   "id": "f5be9c46",
   "metadata": {},
   "outputs": [],
   "source": [
    "final_simulation = Simulation(pdb.topology, system, integrator)"
   ]
  },
  {
   "cell_type": "code",
   "execution_count": 81,
   "id": "0ea47916",
   "metadata": {},
   "outputs": [],
   "source": [
    "final_simulation.context.setPositions(pdb.positions)"
   ]
  },
  {
   "cell_type": "code",
   "execution_count": 82,
   "id": "7c0d1f54",
   "metadata": {},
   "outputs": [],
   "source": [
    "dcdReporter = DCDReporter(\"final.dcd\",10)\n",
    "\n",
    "dataReporter = StateDataReporter(\"P6_log.txt\",1000,totalSteps=100000, step=True, \n",
    "                                 speed=True, progress=True, potentialEnergy=True, temperature=True,separator=\"t\")\n",
    "\n",
    "final_simulation.reporters.append(dcdReporter)\n",
    "final_simulation.reporters.append(dataReporter)\n",
    "\n",
    "final_simulation.step(100000)"
   ]
  },
  {
   "cell_type": "code",
   "execution_count": 84,
   "id": "50a3ec1d",
   "metadata": {},
   "outputs": [],
   "source": [
    "final_state = [] \n",
    "for i in range(5000): \n",
    "    final_simulation.step(50) \n",
    "    final_state.append(final_simulation.context.getState(getPositions=True).getPositions())  "
   ]
  },
  {
   "cell_type": "code",
   "execution_count": 85,
   "id": "220e636f",
   "metadata": {},
   "outputs": [],
   "source": [
    "# finding the energy gap between middle and final state\n",
    "final_middle = []\n",
    "for i in range(5000):\n",
    "    middle_simulation.context.setPositions(middle_state[i])\n",
    "    middle_energy = middle_simulation.context.getState(getEnergy=True).getPotentialEnergy()/(kilojoule/mole)\n",
    "    final_simulation.context.setPositions(middle_state[i])\n",
    "    final_energy = final_simulation.context.getState(getEnergy=True).getPotentialEnergy()/(kilojoule/mole)\n",
    "    energy_gap = final_energy - middle_energy\n",
    "    final_middle.append(energy_gap) "
   ]
  },
  {
   "cell_type": "code",
   "execution_count": 132,
   "id": "843bbea8",
   "metadata": {},
   "outputs": [
    {
     "data": {
      "text/plain": [
       "array([-12.70653582, -77.06591082, -20.61278582, ..., -11.77684832,\n",
       "       -38.09716082,  10.36377668])"
      ]
     },
     "execution_count": 132,
     "metadata": {},
     "output_type": "execute_result"
    }
   ],
   "source": [
    "final_middle = np.array(final_middle)\n",
    "final_middle"
   ]
  },
  {
   "cell_type": "code",
   "execution_count": null,
   "id": "79576087",
   "metadata": {},
   "outputs": [],
   "source": []
  },
  {
   "cell_type": "code",
   "execution_count": 133,
   "id": "14db3771",
   "metadata": {},
   "outputs": [
    {
     "data": {
      "text/plain": [
       "-0.49622124534666506"
      ]
     },
     "execution_count": 133,
     "metadata": {},
     "output_type": "execute_result"
    }
   ],
   "source": [
    "exponentialFM = np.exp(-1*beta*final_middle)\n",
    "averageFM = np.average(exponentialFM)\n",
    "DeltaFM = -1*kb*np.log(averageFM)\n",
    "DeltaFM"
   ]
  },
  {
   "cell_type": "code",
   "execution_count": 89,
   "id": "44cbc3f2",
   "metadata": {},
   "outputs": [],
   "source": [
    "final_middleB = []\n",
    "for i in range(5000):\n",
    "    initial_simulation.context.setPositions(final_state[i])\n",
    "    initial_energyB = initial_simulation.context.getState(getEnergy=True).getPotentialEnergy()/(kilojoule/mole)\n",
    "    middle_simulation.context.setPositions(final_state[i])\n",
    "    middle_energyB = middle_simulation.context.getState(getEnergy=True).getPotentialEnergy()/(kilojoule/mole)\n",
    "    energy_gap = middle_energyB - initial_energyB\n",
    "    final_middleB.append(energy_gap)"
   ]
  },
  {
   "cell_type": "code",
   "execution_count": 90,
   "id": "07cf0ab3",
   "metadata": {},
   "outputs": [
    {
     "data": {
      "text/plain": [
       "array([47.41333399, 39.47583399, 53.92114649, ..., 44.17114649,\n",
       "       56.99145899, 61.60083399])"
      ]
     },
     "execution_count": 90,
     "metadata": {},
     "output_type": "execute_result"
    }
   ],
   "source": [
    "final_middleB = np.array(final_middleB)\n",
    "final_middleB"
   ]
  },
  {
   "cell_type": "code",
   "execution_count": 134,
   "id": "06928830",
   "metadata": {},
   "outputs": [
    {
     "data": {
      "text/plain": [
       "0.10696733364528754"
      ]
     },
     "execution_count": 134,
     "metadata": {},
     "output_type": "execute_result"
    }
   ],
   "source": [
    "exponentialFMB = np.exp(-1*beta*final_middleB)\n",
    "averageFMB = np.average(exponentialFMB)\n",
    "DeltaFMB = -1*kb*np.log(averageFMB)\n",
    "DeltaFMB"
   ]
  },
  {
   "cell_type": "code",
   "execution_count": null,
   "id": "88ae4e93",
   "metadata": {},
   "outputs": [],
   "source": [
    "trial1f = []\n",
    "for i in range(5000):\n",
    "    initial_simulation.context.setPositions(initial_state[i])\n",
    "    initial_energy = initial_simulation.context.getState(getEnergy=True).getPotentialEnergy()/(kilojoule/mole)\n",
    "    middle_simulation.context.setPositions(initial_state[i])\n",
    "    middle_energy = middle_simulation.context.getState(getEnergy=True).getPotentialEnergy()/(kilojoule/mole)\n",
    "    energy_gap = middle_energy - initial_energy\n",
    "    trial1f.append(energy_gap)\n",
    "trial1f = np.array(trial1f)\n",
    "\n",
    "exponential1f = np.exp(-1*beta*trial1f)\n",
    "average1f = np.average(exponential1f)\n",
    "Delta1f = -1*kb*np.log(average1f)\n",
    "\n",
    "trial2f = []\n",
    "for i in range(5000):\n",
    "    initial_simulation.context.setPositions(initial_state[i])\n",
    "    initial_energy = initial_simulation.context.getState(getEnergy=True).getPotentialEnergy()/(kilojoule/mole)\n",
    "    middle_simulation.context.setPositions(initial_state[i])\n",
    "    middle_energy = middle_simulation.context.getState(getEnergy=True).getPotentialEnergy()/(kilojoule/mole)\n",
    "    energy_gap = middle_energy - initial_energy\n",
    "    trial2f.append(energy_gap)\n",
    "trial2f = np.array(trial2f)\n",
    "\n",
    "exponential2f = np.exp(-1*beta*trial2f)\n",
    "average2f = np.average(exponential2f)\n",
    "Delta2f = -1*kb*np.log(average2f)\n",
    "\n",
    "trial3f = []\n",
    "for i in range(5000):\n",
    "    initial_simulation.context.setPositions(initial_state[i])\n",
    "    initial_energy = initial_simulation.context.getState(getEnergy=True).getPotentialEnergy()/(kilojoule/mole)\n",
    "    middle_simulation.context.setPositions(initial_state[i])\n",
    "    middle_energy = middle_simulation.context.getState(getEnergy=True).getPotentialEnergy()/(kilojoule/mole)\n",
    "    energy_gap = middle_energy - initial_energy\n",
    "    trial3f.append(energy_gap)\n",
    "trial3f = np.array(trial3f)\n",
    "\n",
    "exponential3f = np.exp(-1*beta*trial3f)\n",
    "average3f = np.average(exponential3f)\n",
    "Delta3f = -1*kb*np.log(average3f)\n",
    "\n",
    "trial4f = []\n",
    "for i in range(5000):\n",
    "    initial_simulation.context.setPositions(initial_state[i])\n",
    "    initial_energy = initial_simulation.context.getState(getEnergy=True).getPotentialEnergy()/(kilojoule/mole)\n",
    "    middle_simulation.context.setPositions(initial_state[i])\n",
    "    middle_energy = middle_simulation.context.getState(getEnergy=True).getPotentialEnergy()/(kilojoule/mole)\n",
    "    energy_gap = middle_energy - initial_energy\n",
    "    trial4f.append(energy_gap)\n",
    "trial4f = np.array(trial4f)\n",
    "\n",
    "exponential4f = np.exp(-1*beta*trial4f)\n",
    "average4f = np.average(exponential4f)\n",
    "Delta4f = -1*kb*np.log(average4f)\n",
    "\n",
    "trial5f = []\n",
    "for i in range(5000):\n",
    "    initial_simulation.context.setPositions(initial_state[i])\n",
    "    initial_energy = initial_simulation.context.getState(getEnergy=True).getPotentialEnergy()/(kilojoule/mole)\n",
    "    middle_simulation.context.setPositions(initial_state[i])\n",
    "    middle_energy = middle_simulation.context.getState(getEnergy=True).getPotentialEnergy()/(kilojoule/mole)\n",
    "    energy_gap = middle_energy - initial_energy\n",
    "    trial5f.append(energy_gap)\n",
    "trial5f = np.array(trial5f)\n",
    "\n",
    "exponential5f = np.exp(-1*beta*trial5f)\n",
    "average5f = np.average(exponential5f)\n",
    "Delta5f = -1*kb*np.log(average5f)"
   ]
  },
  {
   "cell_type": "code",
   "execution_count": null,
   "id": "d57779d1",
   "metadata": {},
   "outputs": [],
   "source": [
    "# standard error \n",
    "errorfinal = sem([Delta1f,Delta2f,Delta3f,Delta4f,Delta5f])\n",
    "errorfinal"
   ]
  },
  {
   "cell_type": "code",
   "execution_count": null,
   "id": "6407fae3",
   "metadata": {},
   "outputs": [],
   "source": [
    "# top 10 values\n",
    "top10f = np.argsort(final_middle)[len(final_middle)-10::]\n",
    "top10f"
   ]
  },
  {
   "cell_type": "code",
   "execution_count": 137,
   "id": "4b33cfa7",
   "metadata": {},
   "outputs": [
    {
     "data": {
      "text/plain": [
       "26.208707431763667"
      ]
     },
     "execution_count": 137,
     "metadata": {},
     "output_type": "execute_result"
    }
   ],
   "source": [
    "# part G\n",
    "deltaGLr = 0.5*( np.average(middle_startB) + np.average(final_middleB) )\n",
    "deltaGLr"
   ]
  },
  {
   "cell_type": "code",
   "execution_count": null,
   "id": "431b1243",
   "metadata": {},
   "outputs": [],
   "source": [
    "deltaGLr1 = 0.5*( np.average(trial1) + np.average(trial1f) )\n",
    "deltaGLr1"
   ]
  },
  {
   "cell_type": "code",
   "execution_count": null,
   "id": "21106b62",
   "metadata": {},
   "outputs": [],
   "source": [
    "deltaGLr2 = 0.5*( np.average(trial2) + np.average(trial2f) )\n",
    "deltaGLr2"
   ]
  },
  {
   "cell_type": "code",
   "execution_count": null,
   "id": "42f2f785",
   "metadata": {},
   "outputs": [],
   "source": [
    "deltaGLr3 = 0.5*( np.average(trial3) + np.average(trial3f) )\n",
    "deltaGLr3"
   ]
  },
  {
   "cell_type": "code",
   "execution_count": null,
   "id": "516a3fc5",
   "metadata": {},
   "outputs": [],
   "source": [
    "deltaGLr4 = 0.5*( np.average(trial4) + np.average(trial4f) )\n",
    "deltaGLr4"
   ]
  },
  {
   "cell_type": "code",
   "execution_count": null,
   "id": "a0fc74b2",
   "metadata": {},
   "outputs": [],
   "source": [
    "deltaGLr5 = 0.5*( np.average(trial5) + np.average(trial5f) )\n",
    "deltaGLr5"
   ]
  },
  {
   "cell_type": "code",
   "execution_count": null,
   "id": "47d6f850",
   "metadata": {},
   "outputs": [],
   "source": [
    "# standard error for part g\n",
    "errorg = sem([deltaGLr1,deltaGLr2,deltaGLr3,deltaGLr4,deltaGLr5])\n",
    "errorg"
   ]
  },
  {
   "cell_type": "code",
   "execution_count": null,
   "id": "3f3da9c2",
   "metadata": {},
   "outputs": [],
   "source": []
  },
  {
   "cell_type": "code",
   "execution_count": null,
   "id": "ff9ebbdf",
   "metadata": {},
   "outputs": [],
   "source": [
    "# part h \n",
    "addition = sum([DeltaFM,DeltaA])\n",
    "addition"
   ]
  },
  {
   "cell_type": "code",
   "execution_count": 25,
   "id": "879648d8",
   "metadata": {},
   "outputs": [
    {
     "data": {
      "text/plain": [
       "7"
      ]
     },
     "execution_count": 25,
     "metadata": {},
     "output_type": "execute_result"
    }
   ],
   "source": []
  },
  {
   "cell_type": "code",
   "execution_count": null,
   "id": "94f3becb",
   "metadata": {},
   "outputs": [],
   "source": []
  }
 ],
 "metadata": {
  "kernelspec": {
   "display_name": "Python 3 (ipykernel)",
   "language": "python",
   "name": "python3"
  },
  "language_info": {
   "codemirror_mode": {
    "name": "ipython",
    "version": 3
   },
   "file_extension": ".py",
   "mimetype": "text/x-python",
   "name": "python",
   "nbconvert_exporter": "python",
   "pygments_lexer": "ipython3",
   "version": "3.10.11"
  }
 },
 "nbformat": 4,
 "nbformat_minor": 5
}
